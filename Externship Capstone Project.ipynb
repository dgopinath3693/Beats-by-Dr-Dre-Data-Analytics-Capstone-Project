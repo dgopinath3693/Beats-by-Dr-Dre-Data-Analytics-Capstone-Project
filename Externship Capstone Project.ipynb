{
  "nbformat": 4,
  "nbformat_minor": 0,
  "metadata": {
    "colab": {
      "provenance": []
    },
    "kernelspec": {
      "name": "python3",
      "display_name": "Python 3"
    },
    "language_info": {
      "name": "python"
    }
  },
  "cells": [
    {
      "cell_type": "markdown",
      "source": [
        "# Capstone Project: Consumer Insights Data Analytics Externship of Beats by Dre"
      ],
      "metadata": {
        "id": "IydAmVbUe5No"
      }
    },
    {
      "cell_type": "markdown",
      "source": [
        "Kindly use this template to get an overview of the structure that you need to follow in your capstone project.\n",
        "\n",
        "Ensure that the final insights that you produce in your analysis stand out and are easily accessible.\n",
        "\n",
        "You need to provide the code snippets that you used to run the code."
      ],
      "metadata": {
        "id": "cnsXGvlme_mH"
      }
    },
    {
      "cell_type": "markdown",
      "source": [
        "## 1. Title Page\n",
        "**Project Title:** Consumer Insights Data Analytics Externship of Beats by Dre  \n",
        "\n",
        "**Student Name:** Diya Gopinath\n",
        "\n",
        "**Date:** 07/22/2024"
      ],
      "metadata": {
        "id": "9NNnXrCxfZm5"
      }
    },
    {
      "cell_type": "markdown",
      "source": [
        "## 2. Table of Contents\n",
        "1. Introduction\n",
        "2. Data Description\n",
        "3. Exploratory Data Analysis (EDA)\n",
        "4. Sentiment Analysis\n",
        "5. AI-Generated Insights\n",
        "6. Comparative Analysis\n",
        "7. Strategic Recommendations\n",
        "8. Conclusion\n",
        "9. References"
      ],
      "metadata": {
        "id": "EcaUG1uyfeiS"
      }
    },
    {
      "cell_type": "markdown",
      "source": [
        "## 3. Introduction\n",
        "\n",
        "### 3.1 Project Overview\n",
        "Briefly describe the purpose of the project and outline the key objectives."
      ],
      "metadata": {
        "id": "jbYdV2Rbf0AD"
      }
    },
    {
      "cell_type": "markdown",
      "source": [
        "The purpose of this project is to learn more about specific techniques and processes in data analysis and how companies use them to make evidence-based brand decisions. Key objectives of this internship include exploring various data science libraries, applying exploratory data analysis, performing sentiment analysis and natural language processing tools to data we scraped using APIs and Beat's Amazon Reviews."
      ],
      "metadata": {
        "id": "6PU0cglkyOGf"
      }
    },
    {
      "cell_type": "markdown",
      "source": [
        "### 3.2 Background\n",
        "Provide context about Beats by Dre and the importance of consumer sentiment analysis in the tech industry."
      ],
      "metadata": {
        "id": "gsPiaY4Zf6bZ"
      }
    },
    {
      "cell_type": "markdown",
      "source": [
        "Beats by Bre is a leading audio provider brand of several popular products including headphones, earbuds, speakers, and more. It is a top competitor among the audio product industry these days. Consumer sentiment analysis is important to conduct in the tech industry as it can help companies like Beats learn more about the feedback on their products, automating this process in a fast manner, which can lead to improving features or introducing new ones."
      ],
      "metadata": {
        "id": "AilVHDbazCMt"
      }
    },
    {
      "cell_type": "markdown",
      "source": [
        "## 4. Data Description\n",
        "\n",
        "### 4.1 Data Sources\n",
        "Describe the sources of your data (e.g., Amazon reviews)."
      ],
      "metadata": {
        "id": "oL_6d6NngA_2"
      }
    },
    {
      "cell_type": "markdown",
      "source": [
        "The data I gathered for my project came from Amazon. I took the most popular Bluetooth headphones from 9 other leading brands that came up on Amazon and utilized all 10 to analyze as competitors against Beats: Bose, Apple, Sony, Sennheiser, Treblab, Picun, Beribes, Skullcandy, and JBL."
      ],
      "metadata": {
        "id": "BWb58qxkzudW"
      }
    },
    {
      "cell_type": "markdown",
      "source": [
        "### 4.2 Data Collection\n",
        "Explain the data gathering process, including any challenges faced and how they were overcome."
      ],
      "metadata": {
        "id": "8KD8d0nXgCAy"
      }
    },
    {
      "cell_type": "markdown",
      "source": [
        "The data gathering process included scraping the data's information into a JSON file, using the ASIN from each of the 10 Amazon URLs with the Oxylabs E-commerce scraper, which scraped the most recent 100 reviews of each product. I struggled with getting more than 100 reviews originally, however this is just the limit allowed due to Amazon's security protocols. After getting all the JSON files, I used Pandas to load and turn them into 10 separate CSVs, which I then merged into one big CSV of 1000 rows."
      ],
      "metadata": {
        "id": "h-fdhFiD0Js1"
      }
    },
    {
      "cell_type": "markdown",
      "source": [
        "### 4.3 Data Cleaning\n",
        "Outline the steps taken to clean and preprocess the data, highlighting any significant decisions made during this process.\n",
        "\n",
        "Load the data below and process cleaning here."
      ],
      "metadata": {
        "id": "dnCMjSjegE55"
      }
    },
    {
      "cell_type": "code",
      "source": [
        "import json\n",
        "import pandas as pd\n",
        "import numpy as np\n",
        "import seaborn as sns\n",
        "import matplotlib.pyplot as plt\n",
        "import re\n",
        "from textblob import TextBlob"
      ],
      "metadata": {
        "id": "bgAD9_XRgGru"
      },
      "execution_count": 29,
      "outputs": []
    },
    {
      "cell_type": "markdown",
      "source": [
        "To clean the data, I first dropped all of the NA values to ensure that loss of data did not affect the statistics later and skew it -- this dropped 100 rows from the dataset"
      ],
      "metadata": {
        "id": "U84OLv6MBeV0"
      }
    },
    {
      "cell_type": "code",
      "source": [
        "merged_df = pd.read_csv('/content/merged_df.csv')\n",
        "merged_df_dropped = merged_df.dropna()"
      ],
      "metadata": {
        "id": "jVCvfTF37rG1"
      },
      "execution_count": 30,
      "outputs": []
    },
    {
      "cell_type": "markdown",
      "source": [
        " To process the data better, I made some changes to the dataset itself. I first dropped isVerified column, as I discovered all of the values were the same in this column. I also dropped the intial \"rating\" column as it seemed to be a duplicate of my \"author\" column. I then renamed the \"title\" column to \"% rating\" as it was more fitting by the values."
      ],
      "metadata": {
        "id": "XmHmshhEBmZv"
      }
    },
    {
      "cell_type": "code",
      "source": [
        "merged_df_dropped = merged_df_dropped.drop(\"rating\", axis=1)\n",
        "merged_df_dropped = merged_df_dropped.drop(\"is_verified\", axis=1)\n",
        "merged_df_dropped = merged_df_dropped.rename(columns={'title': '% rating'})\n"
      ],
      "metadata": {
        "id": "MUY5zTEY7rNU"
      },
      "execution_count": 31,
      "outputs": []
    },
    {
      "cell_type": "markdown",
      "source": [
        "For the \"% rating\" column, I then used regex to turn each string in the column into a float value to represent the rating of each review in percentage format so it was easier to use numerically. I similarly used regex to shorten each string in the \"timestamp\" column from a long string involving other words to solely the date in M/D/Y format so it would be easier to use later."
      ],
      "metadata": {
        "id": "rBD8qFieByH6"
      }
    },
    {
      "cell_type": "code",
      "source": [
        "merged_df_dropped['timestamp'] = merged_df_dropped['timestamp'].str.extract(r'in the United States (.+ \\d{1,2}, \\d{4})')\n",
        "merged_df_dropped['timestamp'] = pd.to_datetime(merged_df_dropped['timestamp'])\n",
        "merged_df_dropped['timestamp'] = merged_df_dropped['timestamp'].dt.strftime('%-m/%-d/%Y')\n",
        "\n",
        "merged_df_dropped[['rating_score', 'max_score']] = merged_df_dropped['% rating'].str.extract(r'(\\d+\\.\\d) out of (\\d+)')\n",
        "merged_df_dropped['rating_score'] = pd.to_numeric(merged_df_dropped['rating_score'])\n",
        "merged_df_dropped['max_score'] = pd.to_numeric(merged_df_dropped['max_score'])\n",
        "merged_df_dropped['% rating'] = (merged_df_dropped['rating_score'] / merged_df_dropped['max_score']) * 100\n",
        "merged_df_dropped['% rating'] = merged_df_dropped['% rating'].apply(lambda x: f'{x:.2f}')\n",
        "merged_df_dropped.drop(columns=['rating_score', 'max_score'], inplace=True)"
      ],
      "metadata": {
        "id": "1BEHclCH7rLB"
      },
      "execution_count": 32,
      "outputs": []
    },
    {
      "cell_type": "markdown",
      "source": [
        "I dropped all duplicate values here and type casted the \"helpful_count\" column and \"% rating\" column to their respective numerical types so I could manipulate these variables later."
      ],
      "metadata": {
        "id": "XC1USEOGB5iM"
      }
    },
    {
      "cell_type": "code",
      "source": [
        "merged_df_no_duplicates = merged_df_dropped.drop_duplicates()\n",
        "merged_df_no_duplicates['helpful_count'] = merged_df_no_duplicates['helpful_count'].astype(int)\n",
        "merged_df_no_duplicates['% rating'] = merged_df_no_duplicates['% rating'].astype(float)"
      ],
      "metadata": {
        "id": "2tDjElf_7rPZ"
      },
      "execution_count": 33,
      "outputs": []
    },
    {
      "cell_type": "markdown",
      "source": [
        "After that, I renamed all the values in the \"product_id\" column to their respective companies so I could easily identify which product belonged to which company and use easier for EDA later."
      ],
      "metadata": {
        "id": "I553TiolCL6q"
      }
    },
    {
      "cell_type": "code",
      "source": [
        "data = merged_df_no_duplicates\n",
        "\n",
        "data.loc[data['product_id'] == 'B0C8PR4W22', 'product_id'] = 'Beats'\n",
        "data.loc[data['product_id'] == 'B0CCZ26B5V', 'product_id'] = 'Bose'\n",
        "data.loc[data['product_id'] == 'B0CBLM9MMC', 'product_id'] = 'Skullcandy'\n",
        "data.loc[data['product_id'] == 'B0BXYCS74H', 'product_id'] = 'Sony'\n",
        "data.loc[data['product_id'] == 'B08PZD76NP', 'product_id'] = 'Apple'\n",
        "data.loc[data['product_id'] == 'B0CDH415QV', 'product_id'] = 'Sennheiser'\n",
        "data.loc[data['product_id'] == 'B0778V7RVR', 'product_id'] = 'Treblab'\n",
        "data.loc[data['product_id'] == 'B09LYF2ST7', 'product_id'] = 'Beribes'\n",
        "data.loc[data['product_id'] == 'B0CFV9XR2Q', 'product_id'] = 'Picun'\n",
        "data.loc[data['product_id'] == 'B091FZK6VB', 'product_id'] = 'JBL'"
      ],
      "metadata": {
        "id": "yKX1HQ_i7rRf"
      },
      "execution_count": 34,
      "outputs": []
    },
    {
      "cell_type": "markdown",
      "source": [
        "I also created a function that created a new column called \"color\" where I extracted the color from the \"product attributes\" column and placed it separately for easier analysis later."
      ],
      "metadata": {
        "id": "JXr3xWtvCdMO"
      }
    },
    {
      "cell_type": "code",
      "source": [
        "def extract_color(text):\n",
        "    match = re.search(r'Color:\\s*([a-zA-Z\\s]+)', text)\n",
        "    if match:\n",
        "        return match.group(1).strip()\n",
        "    else:\n",
        "        return None\n",
        "\n",
        "\n",
        "data['color'] = data['product_attributes'].apply(lambda x: extract_color(x))"
      ],
      "metadata": {
        "id": "yR7Ws5gG_l3I"
      },
      "execution_count": 35,
      "outputs": []
    },
    {
      "cell_type": "code",
      "source": [
        "data.head()"
      ],
      "metadata": {
        "colab": {
          "base_uri": "https://localhost:8080/",
          "height": 590
        },
        "id": "AzrZBkigBTJ7",
        "outputId": "46821295-7baf-4080-8dd5-f4c8fd55b5d6"
      },
      "execution_count": 36,
      "outputs": [
        {
          "output_type": "execute_result",
          "data": {
            "text/plain": [
              "        review_id product_id  % rating           author  \\\n",
              "0  R16J7WIMIK77MG      Apple     100.0  watch collector   \n",
              "1  R2W4400B53WNTG      Apple     100.0   Jesse Peterson   \n",
              "2  R39G5JSN8QN03S      Apple     100.0         Sister J   \n",
              "3  R34XM6OMJ2B9A6      Apple     100.0          Min Kim   \n",
              "4   R5BA24C902D0N      Apple     100.0  Bianca van Lill   \n",
              "\n",
              "                                             content   timestamp  \\\n",
              "0  Disclosures: I am immersed in the apple ecosys...   4/20/2024   \n",
              "1  Apple's AirPods Max headphones are a true marv...  11/19/2023   \n",
              "2  The media could not be loaded. These headphone...   2/20/2024   \n",
              "3  I always wanted to get the airpods max. Sound ...    6/3/2024   \n",
              "4  It is very comfortable and the battery lasts f...    6/5/2024   \n",
              "\n",
              "                     profile_id  helpful_count  \\\n",
              "0  AG2ELZHO6QIAYX7DQ7OMQZPD5ZCQ            137   \n",
              "1  AF6MQNSPK2RZDYRIAVNIFL7M34HA             51   \n",
              "2  AFEQVTIINMJTYKMK27QZ4ANZWCFA             42   \n",
              "3  AEQJA6ZUSAESDB45VKUMGOGGCMRQ              1   \n",
              "4  AEBWCB6ST2XD4MKEKOC73CN6VP7A              3   \n",
              "\n",
              "                     product_attributes      color  \n",
              "0  Color: SilverSet: Without AppleCare+  SilverSet  \n",
              "1  Color: SilverSet: Without AppleCare+  SilverSet  \n",
              "2  Color: SilverSet: Without AppleCare+  SilverSet  \n",
              "3  Color: SilverSet: Without AppleCare+  SilverSet  \n",
              "4  Color: SilverSet: Without AppleCare+  SilverSet  "
            ],
            "text/html": [
              "\n",
              "  <div id=\"df-463b3771-d6cd-4c9d-867b-a158b4160589\" class=\"colab-df-container\">\n",
              "    <div>\n",
              "<style scoped>\n",
              "    .dataframe tbody tr th:only-of-type {\n",
              "        vertical-align: middle;\n",
              "    }\n",
              "\n",
              "    .dataframe tbody tr th {\n",
              "        vertical-align: top;\n",
              "    }\n",
              "\n",
              "    .dataframe thead th {\n",
              "        text-align: right;\n",
              "    }\n",
              "</style>\n",
              "<table border=\"1\" class=\"dataframe\">\n",
              "  <thead>\n",
              "    <tr style=\"text-align: right;\">\n",
              "      <th></th>\n",
              "      <th>review_id</th>\n",
              "      <th>product_id</th>\n",
              "      <th>% rating</th>\n",
              "      <th>author</th>\n",
              "      <th>content</th>\n",
              "      <th>timestamp</th>\n",
              "      <th>profile_id</th>\n",
              "      <th>helpful_count</th>\n",
              "      <th>product_attributes</th>\n",
              "      <th>color</th>\n",
              "    </tr>\n",
              "  </thead>\n",
              "  <tbody>\n",
              "    <tr>\n",
              "      <th>0</th>\n",
              "      <td>R16J7WIMIK77MG</td>\n",
              "      <td>Apple</td>\n",
              "      <td>100.0</td>\n",
              "      <td>watch collector</td>\n",
              "      <td>Disclosures: I am immersed in the apple ecosys...</td>\n",
              "      <td>4/20/2024</td>\n",
              "      <td>AG2ELZHO6QIAYX7DQ7OMQZPD5ZCQ</td>\n",
              "      <td>137</td>\n",
              "      <td>Color: SilverSet: Without AppleCare+</td>\n",
              "      <td>SilverSet</td>\n",
              "    </tr>\n",
              "    <tr>\n",
              "      <th>1</th>\n",
              "      <td>R2W4400B53WNTG</td>\n",
              "      <td>Apple</td>\n",
              "      <td>100.0</td>\n",
              "      <td>Jesse Peterson</td>\n",
              "      <td>Apple's AirPods Max headphones are a true marv...</td>\n",
              "      <td>11/19/2023</td>\n",
              "      <td>AF6MQNSPK2RZDYRIAVNIFL7M34HA</td>\n",
              "      <td>51</td>\n",
              "      <td>Color: SilverSet: Without AppleCare+</td>\n",
              "      <td>SilverSet</td>\n",
              "    </tr>\n",
              "    <tr>\n",
              "      <th>2</th>\n",
              "      <td>R39G5JSN8QN03S</td>\n",
              "      <td>Apple</td>\n",
              "      <td>100.0</td>\n",
              "      <td>Sister J</td>\n",
              "      <td>The media could not be loaded. These headphone...</td>\n",
              "      <td>2/20/2024</td>\n",
              "      <td>AFEQVTIINMJTYKMK27QZ4ANZWCFA</td>\n",
              "      <td>42</td>\n",
              "      <td>Color: SilverSet: Without AppleCare+</td>\n",
              "      <td>SilverSet</td>\n",
              "    </tr>\n",
              "    <tr>\n",
              "      <th>3</th>\n",
              "      <td>R34XM6OMJ2B9A6</td>\n",
              "      <td>Apple</td>\n",
              "      <td>100.0</td>\n",
              "      <td>Min Kim</td>\n",
              "      <td>I always wanted to get the airpods max. Sound ...</td>\n",
              "      <td>6/3/2024</td>\n",
              "      <td>AEQJA6ZUSAESDB45VKUMGOGGCMRQ</td>\n",
              "      <td>1</td>\n",
              "      <td>Color: SilverSet: Without AppleCare+</td>\n",
              "      <td>SilverSet</td>\n",
              "    </tr>\n",
              "    <tr>\n",
              "      <th>4</th>\n",
              "      <td>R5BA24C902D0N</td>\n",
              "      <td>Apple</td>\n",
              "      <td>100.0</td>\n",
              "      <td>Bianca van Lill</td>\n",
              "      <td>It is very comfortable and the battery lasts f...</td>\n",
              "      <td>6/5/2024</td>\n",
              "      <td>AEBWCB6ST2XD4MKEKOC73CN6VP7A</td>\n",
              "      <td>3</td>\n",
              "      <td>Color: SilverSet: Without AppleCare+</td>\n",
              "      <td>SilverSet</td>\n",
              "    </tr>\n",
              "  </tbody>\n",
              "</table>\n",
              "</div>\n",
              "    <div class=\"colab-df-buttons\">\n",
              "\n",
              "  <div class=\"colab-df-container\">\n",
              "    <button class=\"colab-df-convert\" onclick=\"convertToInteractive('df-463b3771-d6cd-4c9d-867b-a158b4160589')\"\n",
              "            title=\"Convert this dataframe to an interactive table.\"\n",
              "            style=\"display:none;\">\n",
              "\n",
              "  <svg xmlns=\"http://www.w3.org/2000/svg\" height=\"24px\" viewBox=\"0 -960 960 960\">\n",
              "    <path d=\"M120-120v-720h720v720H120Zm60-500h600v-160H180v160Zm220 220h160v-160H400v160Zm0 220h160v-160H400v160ZM180-400h160v-160H180v160Zm440 0h160v-160H620v160ZM180-180h160v-160H180v160Zm440 0h160v-160H620v160Z\"/>\n",
              "  </svg>\n",
              "    </button>\n",
              "\n",
              "  <style>\n",
              "    .colab-df-container {\n",
              "      display:flex;\n",
              "      gap: 12px;\n",
              "    }\n",
              "\n",
              "    .colab-df-convert {\n",
              "      background-color: #E8F0FE;\n",
              "      border: none;\n",
              "      border-radius: 50%;\n",
              "      cursor: pointer;\n",
              "      display: none;\n",
              "      fill: #1967D2;\n",
              "      height: 32px;\n",
              "      padding: 0 0 0 0;\n",
              "      width: 32px;\n",
              "    }\n",
              "\n",
              "    .colab-df-convert:hover {\n",
              "      background-color: #E2EBFA;\n",
              "      box-shadow: 0px 1px 2px rgba(60, 64, 67, 0.3), 0px 1px 3px 1px rgba(60, 64, 67, 0.15);\n",
              "      fill: #174EA6;\n",
              "    }\n",
              "\n",
              "    .colab-df-buttons div {\n",
              "      margin-bottom: 4px;\n",
              "    }\n",
              "\n",
              "    [theme=dark] .colab-df-convert {\n",
              "      background-color: #3B4455;\n",
              "      fill: #D2E3FC;\n",
              "    }\n",
              "\n",
              "    [theme=dark] .colab-df-convert:hover {\n",
              "      background-color: #434B5C;\n",
              "      box-shadow: 0px 1px 3px 1px rgba(0, 0, 0, 0.15);\n",
              "      filter: drop-shadow(0px 1px 2px rgba(0, 0, 0, 0.3));\n",
              "      fill: #FFFFFF;\n",
              "    }\n",
              "  </style>\n",
              "\n",
              "    <script>\n",
              "      const buttonEl =\n",
              "        document.querySelector('#df-463b3771-d6cd-4c9d-867b-a158b4160589 button.colab-df-convert');\n",
              "      buttonEl.style.display =\n",
              "        google.colab.kernel.accessAllowed ? 'block' : 'none';\n",
              "\n",
              "      async function convertToInteractive(key) {\n",
              "        const element = document.querySelector('#df-463b3771-d6cd-4c9d-867b-a158b4160589');\n",
              "        const dataTable =\n",
              "          await google.colab.kernel.invokeFunction('convertToInteractive',\n",
              "                                                    [key], {});\n",
              "        if (!dataTable) return;\n",
              "\n",
              "        const docLinkHtml = 'Like what you see? Visit the ' +\n",
              "          '<a target=\"_blank\" href=https://colab.research.google.com/notebooks/data_table.ipynb>data table notebook</a>'\n",
              "          + ' to learn more about interactive tables.';\n",
              "        element.innerHTML = '';\n",
              "        dataTable['output_type'] = 'display_data';\n",
              "        await google.colab.output.renderOutput(dataTable, element);\n",
              "        const docLink = document.createElement('div');\n",
              "        docLink.innerHTML = docLinkHtml;\n",
              "        element.appendChild(docLink);\n",
              "      }\n",
              "    </script>\n",
              "  </div>\n",
              "\n",
              "\n",
              "<div id=\"df-baed55a6-35ae-406c-a8b9-90743d7bdf69\">\n",
              "  <button class=\"colab-df-quickchart\" onclick=\"quickchart('df-baed55a6-35ae-406c-a8b9-90743d7bdf69')\"\n",
              "            title=\"Suggest charts\"\n",
              "            style=\"display:none;\">\n",
              "\n",
              "<svg xmlns=\"http://www.w3.org/2000/svg\" height=\"24px\"viewBox=\"0 0 24 24\"\n",
              "     width=\"24px\">\n",
              "    <g>\n",
              "        <path d=\"M19 3H5c-1.1 0-2 .9-2 2v14c0 1.1.9 2 2 2h14c1.1 0 2-.9 2-2V5c0-1.1-.9-2-2-2zM9 17H7v-7h2v7zm4 0h-2V7h2v10zm4 0h-2v-4h2v4z\"/>\n",
              "    </g>\n",
              "</svg>\n",
              "  </button>\n",
              "\n",
              "<style>\n",
              "  .colab-df-quickchart {\n",
              "      --bg-color: #E8F0FE;\n",
              "      --fill-color: #1967D2;\n",
              "      --hover-bg-color: #E2EBFA;\n",
              "      --hover-fill-color: #174EA6;\n",
              "      --disabled-fill-color: #AAA;\n",
              "      --disabled-bg-color: #DDD;\n",
              "  }\n",
              "\n",
              "  [theme=dark] .colab-df-quickchart {\n",
              "      --bg-color: #3B4455;\n",
              "      --fill-color: #D2E3FC;\n",
              "      --hover-bg-color: #434B5C;\n",
              "      --hover-fill-color: #FFFFFF;\n",
              "      --disabled-bg-color: #3B4455;\n",
              "      --disabled-fill-color: #666;\n",
              "  }\n",
              "\n",
              "  .colab-df-quickchart {\n",
              "    background-color: var(--bg-color);\n",
              "    border: none;\n",
              "    border-radius: 50%;\n",
              "    cursor: pointer;\n",
              "    display: none;\n",
              "    fill: var(--fill-color);\n",
              "    height: 32px;\n",
              "    padding: 0;\n",
              "    width: 32px;\n",
              "  }\n",
              "\n",
              "  .colab-df-quickchart:hover {\n",
              "    background-color: var(--hover-bg-color);\n",
              "    box-shadow: 0 1px 2px rgba(60, 64, 67, 0.3), 0 1px 3px 1px rgba(60, 64, 67, 0.15);\n",
              "    fill: var(--button-hover-fill-color);\n",
              "  }\n",
              "\n",
              "  .colab-df-quickchart-complete:disabled,\n",
              "  .colab-df-quickchart-complete:disabled:hover {\n",
              "    background-color: var(--disabled-bg-color);\n",
              "    fill: var(--disabled-fill-color);\n",
              "    box-shadow: none;\n",
              "  }\n",
              "\n",
              "  .colab-df-spinner {\n",
              "    border: 2px solid var(--fill-color);\n",
              "    border-color: transparent;\n",
              "    border-bottom-color: var(--fill-color);\n",
              "    animation:\n",
              "      spin 1s steps(1) infinite;\n",
              "  }\n",
              "\n",
              "  @keyframes spin {\n",
              "    0% {\n",
              "      border-color: transparent;\n",
              "      border-bottom-color: var(--fill-color);\n",
              "      border-left-color: var(--fill-color);\n",
              "    }\n",
              "    20% {\n",
              "      border-color: transparent;\n",
              "      border-left-color: var(--fill-color);\n",
              "      border-top-color: var(--fill-color);\n",
              "    }\n",
              "    30% {\n",
              "      border-color: transparent;\n",
              "      border-left-color: var(--fill-color);\n",
              "      border-top-color: var(--fill-color);\n",
              "      border-right-color: var(--fill-color);\n",
              "    }\n",
              "    40% {\n",
              "      border-color: transparent;\n",
              "      border-right-color: var(--fill-color);\n",
              "      border-top-color: var(--fill-color);\n",
              "    }\n",
              "    60% {\n",
              "      border-color: transparent;\n",
              "      border-right-color: var(--fill-color);\n",
              "    }\n",
              "    80% {\n",
              "      border-color: transparent;\n",
              "      border-right-color: var(--fill-color);\n",
              "      border-bottom-color: var(--fill-color);\n",
              "    }\n",
              "    90% {\n",
              "      border-color: transparent;\n",
              "      border-bottom-color: var(--fill-color);\n",
              "    }\n",
              "  }\n",
              "</style>\n",
              "\n",
              "  <script>\n",
              "    async function quickchart(key) {\n",
              "      const quickchartButtonEl =\n",
              "        document.querySelector('#' + key + ' button');\n",
              "      quickchartButtonEl.disabled = true;  // To prevent multiple clicks.\n",
              "      quickchartButtonEl.classList.add('colab-df-spinner');\n",
              "      try {\n",
              "        const charts = await google.colab.kernel.invokeFunction(\n",
              "            'suggestCharts', [key], {});\n",
              "      } catch (error) {\n",
              "        console.error('Error during call to suggestCharts:', error);\n",
              "      }\n",
              "      quickchartButtonEl.classList.remove('colab-df-spinner');\n",
              "      quickchartButtonEl.classList.add('colab-df-quickchart-complete');\n",
              "    }\n",
              "    (() => {\n",
              "      let quickchartButtonEl =\n",
              "        document.querySelector('#df-baed55a6-35ae-406c-a8b9-90743d7bdf69 button');\n",
              "      quickchartButtonEl.style.display =\n",
              "        google.colab.kernel.accessAllowed ? 'block' : 'none';\n",
              "    })();\n",
              "  </script>\n",
              "</div>\n",
              "\n",
              "    </div>\n",
              "  </div>\n"
            ],
            "application/vnd.google.colaboratory.intrinsic+json": {
              "type": "dataframe",
              "variable_name": "data",
              "summary": "{\n  \"name\": \"data\",\n  \"rows\": 899,\n  \"fields\": [\n    {\n      \"column\": \"review_id\",\n      \"properties\": {\n        \"dtype\": \"string\",\n        \"num_unique_values\": 899,\n        \"samples\": [\n          \"RYY98T95OF1F1\",\n          \"RM1Q7FEWXKB10\",\n          \"R3PM7K78OSEFF4\"\n        ],\n        \"semantic_type\": \"\",\n        \"description\": \"\"\n      }\n    },\n    {\n      \"column\": \"product_id\",\n      \"properties\": {\n        \"dtype\": \"category\",\n        \"num_unique_values\": 9,\n        \"samples\": [\n          \"Skullcandy\",\n          \"Beats\",\n          \"Picun\"\n        ],\n        \"semantic_type\": \"\",\n        \"description\": \"\"\n      }\n    },\n    {\n      \"column\": \"% rating\",\n      \"properties\": {\n        \"dtype\": \"number\",\n        \"std\": 13.206290480183137,\n        \"min\": 40.0,\n        \"max\": 100.0,\n        \"num_unique_values\": 4,\n        \"samples\": [\n          80.0,\n          40.0,\n          100.0\n        ],\n        \"semantic_type\": \"\",\n        \"description\": \"\"\n      }\n    },\n    {\n      \"column\": \"author\",\n      \"properties\": {\n        \"dtype\": \"string\",\n        \"num_unique_values\": 819,\n        \"samples\": [\n          \"Jennifer Earls\",\n          \"Jonathan\",\n          \"young george\"\n        ],\n        \"semantic_type\": \"\",\n        \"description\": \"\"\n      }\n    },\n    {\n      \"column\": \"content\",\n      \"properties\": {\n        \"dtype\": \"string\",\n        \"num_unique_values\": 899,\n        \"samples\": [\n          \"I've had two previous Bose noise cancellation headphones, which worked gloriously well and exactly as intended in the pre-app, pre-remote work age (blocking office sounds like faulty HVAC systems, workplace arguments, singing headphoned co-workers, noisy chewers, etc.). Yes, I have a distraction/concentration problem, and Bose headphones have been career-saver.This model has new improved features:* \\\"Active\\\" and \\\"quiet\\\" modes, where \\\"active\\\" is a lesser-strength exterior noise cancellation mode.* When the headphones are turned on, you are told how much is left on the battery (USB charging for a built-in)* Same quality sound for music, same quality noise cancellation.Negatives:* Batteries drain too quickly.* Repetitious reminder that a bluetooth connection can't be found, when the phones aren't plugged in. Sometimes I just want to use the noise cancellation features. Add a button for a quick \\\"disable\\\" bluetooth search perhaps?If the last negative can get fixed, I'd give these headphones 5 stars!\",\n          \"Quick take aways:Without an EQ, the headphones have a very very dark sound signature (I was not a fan)Sound very good for Bluetooth headphones with EQ, sound okay when wiredANC seems to be decent, lot of customisability in the appANC works well in standalone mode (without pairing)Battery life is goodNo form of sweat/water resistance is a minus but can be worked aroundHigh noise floor (if you care about that sort of thing)Optional pause with take off and resume with put on feature is amazing!As a preface, the Sony WH-1000XM5 are my first set of ANC headphones. I would consider myself a mild audiophile (I have a DAC, AMP, and too many headphones). With that said, everyone's ears are different so take this with an extra pinch of salt.Out of the box experience: The packaging was quite nice. It included a hard-shell carrying case, USB-C to USB-A charging cable, 1.2m long 3.5mm cable, and the headphones. The connection process for new devices is wonky and leaves a bit to be desired. The initial pairing did not work until I installed the Sony Headphones Connect app from the appstore. After this, you have to power off the device then power on and hold the power button for 5 seconds to enter pairing mode (confirmed by a vocal \\\"pairing\\\" from the headphones). The sound signature left a lot to be desired. For a bit of background, my favourite type of headphone is flat/neutral with a balanced sound signature. I enjoy heavy bass in electronic music and am sensitive to loud highs/mids (I get listener fatigue quite fast from it). I enjoy a lot of variety when listening to music an will try most things out. In particular I regularly listen to Classical, Avant-garde, Experimental, Easy listening, Electronic, Contemporary folk, Latin, Jazz, Rock, and some Traditional folk. I don't tend to listen to much Blues, Rap, or Hip Hop. I occasionally listen to mainstream-Pop and Country.Without EQ, the sound signature is very very dark. The bass is very punchy and present, the mids are recessed, and the highs have their edge taken off. I was not a fan of it for anything but electronic tracks with no vocals and heavy bass. Even then, it wasn't particularly amazing. Anything with vocals will sound horrendous (again, with no EQ) as the bass frequencies in voices will be very pronounced. The ANC worked well for me out of the box. For the open mode, I set it to let near voices through and ambient noise out. I use them with eyeglasses but the ANC still seems to work well. They do a particularly good job of filtering out A/C noises, the electronic whine that appliances generate (not all people can hear this), and running water. The ANC tends to struggle with erratic high pitched noises (as I understand it, most ANC systems do). However, it will dull the noise a tad through both the closed back headphone and ANC component.Adaptations Since I was not a fan of the sound profile out of the box, I set up an EQ profile with these headphones. The Sony Headphones Connect app includes an EQ but I found it to be extremely limited in terms of customisability (I did not like any of the presets that were offered) and not very user friendly. Due to this, I set up my own external EQ using AutoEq (on github) as a starting point. After fine tuning it to my preferences, using the headphones became a much much better experience. They sound very good for Bluetooth headphones. For genres where I like more bass, I strongly prefer the Sony headphones over my Sennheiser and prefer the Sony to my Bose. In wired mode, the headphones definitely sound better but no where near as good as my other wired headphones. If I'm attached to a wire, I would rather just switch to another pair of headphones. With that said, they do sound better if you leave the headphones on while connected with a cable. The ANC works well for me. If I use them for noise canceling without music, it can get unsettlingly quiet in the mornings (which is a great thing). Around others, particularly in the kitchen, the headphones do a very good job of dulling and eliminating noises. The pass through function works well in the event of conversation. I am a very quiet eater but these headphones did a great job canceling out all noises while I ate. I don't use these headphones outside, so I do not know how well they perform with nature's noises. The gesture controls included are useful but a bit too involved to be my go to. If I have physical access to my device, I prefer to use that to control the music. However, the pause on take off feature is amazing! It consistently pauses my media any time I have to take my headphones off and resumes right where it left off and soon as I put it on. Simply magic is the only way I have to explain it (the function can be turned off if you don't like/want it).\",\n          \"I was in total awe when I put them on for the first time, would recommend to anyone that wants to not only hear the bass but feel it as well.\"\n        ],\n        \"semantic_type\": \"\",\n        \"description\": \"\"\n      }\n    },\n    {\n      \"column\": \"timestamp\",\n      \"properties\": {\n        \"dtype\": \"object\",\n        \"num_unique_values\": 285,\n        \"samples\": [\n          \"6/13/2024\",\n          \"9/26/2022\",\n          \"10/25/2023\"\n        ],\n        \"semantic_type\": \"\",\n        \"description\": \"\"\n      }\n    },\n    {\n      \"column\": \"profile_id\",\n      \"properties\": {\n        \"dtype\": \"string\",\n        \"num_unique_values\": 899,\n        \"samples\": [\n          \"AGB5XLQU5YB4JGMLOW4MTTYG4EIQ\",\n          \"AE5DD5GYEJZMSBJWNIOSVPJ7VSUA\",\n          \"AEIXOQHFBI7RJJ4UQFFZVIJQLXPA\"\n        ],\n        \"semantic_type\": \"\",\n        \"description\": \"\"\n      }\n    },\n    {\n      \"column\": \"helpful_count\",\n      \"properties\": {\n        \"dtype\": \"number\",\n        \"std\": 82,\n        \"min\": 0,\n        \"max\": 1716,\n        \"num_unique_values\": 75,\n        \"samples\": [\n          3,\n          1368,\n          2\n        ],\n        \"semantic_type\": \"\",\n        \"description\": \"\"\n      }\n    },\n    {\n      \"column\": \"product_attributes\",\n      \"properties\": {\n        \"dtype\": \"category\",\n        \"num_unique_values\": 26,\n        \"samples\": [\n          \"Color: Green\",\n          \"Color: Cyan\",\n          \"Color: SilverSet: Without AppleCare+\"\n        ],\n        \"semantic_type\": \"\",\n        \"description\": \"\"\n      }\n    },\n    {\n      \"column\": \"color\",\n      \"properties\": {\n        \"dtype\": \"category\",\n        \"num_unique_values\": 22,\n        \"samples\": [\n          \"SilverSet\",\n          \"Purple\",\n          \"Pink\"\n        ],\n        \"semantic_type\": \"\",\n        \"description\": \"\"\n      }\n    }\n  ]\n}"
            }
          },
          "metadata": {},
          "execution_count": 36
        }
      ]
    },
    {
      "cell_type": "markdown",
      "source": [
        "## 5. Exploratory Data Analysis (EDA)\n",
        "\n",
        "### 5.1 Data Overview\n",
        "Provide a summary of the dataset, including key statistics (mean, median, mode, standard deviation, etc.).\n"
      ],
      "metadata": {
        "id": "7LQuEuuKgHJc"
      }
    },
    {
      "cell_type": "markdown",
      "source": [
        "I got the key statistical values for the entire dataset's 2 numerical columns using the .describe() function."
      ],
      "metadata": {
        "id": "lsgQPSmyCt_y"
      }
    },
    {
      "cell_type": "code",
      "source": [
        "data.describe()"
      ],
      "metadata": {
        "id": "HXTgzclLgLFb",
        "colab": {
          "base_uri": "https://localhost:8080/",
          "height": 300
        },
        "outputId": "086d433f-f217-4f3b-d6ef-b448c4d648d6"
      },
      "execution_count": 37,
      "outputs": [
        {
          "output_type": "execute_result",
          "data": {
            "text/plain": [
              "         % rating  helpful_count\n",
              "count  899.000000     899.000000\n",
              "mean    91.790879      12.034483\n",
              "std     13.206290      82.499078\n",
              "min     40.000000       0.000000\n",
              "25%     80.000000       0.000000\n",
              "50%    100.000000       0.000000\n",
              "75%    100.000000       2.000000\n",
              "max    100.000000    1716.000000"
            ],
            "text/html": [
              "\n",
              "  <div id=\"df-4ad6f739-c7cf-475d-b7eb-56fd00fe388a\" class=\"colab-df-container\">\n",
              "    <div>\n",
              "<style scoped>\n",
              "    .dataframe tbody tr th:only-of-type {\n",
              "        vertical-align: middle;\n",
              "    }\n",
              "\n",
              "    .dataframe tbody tr th {\n",
              "        vertical-align: top;\n",
              "    }\n",
              "\n",
              "    .dataframe thead th {\n",
              "        text-align: right;\n",
              "    }\n",
              "</style>\n",
              "<table border=\"1\" class=\"dataframe\">\n",
              "  <thead>\n",
              "    <tr style=\"text-align: right;\">\n",
              "      <th></th>\n",
              "      <th>% rating</th>\n",
              "      <th>helpful_count</th>\n",
              "    </tr>\n",
              "  </thead>\n",
              "  <tbody>\n",
              "    <tr>\n",
              "      <th>count</th>\n",
              "      <td>899.000000</td>\n",
              "      <td>899.000000</td>\n",
              "    </tr>\n",
              "    <tr>\n",
              "      <th>mean</th>\n",
              "      <td>91.790879</td>\n",
              "      <td>12.034483</td>\n",
              "    </tr>\n",
              "    <tr>\n",
              "      <th>std</th>\n",
              "      <td>13.206290</td>\n",
              "      <td>82.499078</td>\n",
              "    </tr>\n",
              "    <tr>\n",
              "      <th>min</th>\n",
              "      <td>40.000000</td>\n",
              "      <td>0.000000</td>\n",
              "    </tr>\n",
              "    <tr>\n",
              "      <th>25%</th>\n",
              "      <td>80.000000</td>\n",
              "      <td>0.000000</td>\n",
              "    </tr>\n",
              "    <tr>\n",
              "      <th>50%</th>\n",
              "      <td>100.000000</td>\n",
              "      <td>0.000000</td>\n",
              "    </tr>\n",
              "    <tr>\n",
              "      <th>75%</th>\n",
              "      <td>100.000000</td>\n",
              "      <td>2.000000</td>\n",
              "    </tr>\n",
              "    <tr>\n",
              "      <th>max</th>\n",
              "      <td>100.000000</td>\n",
              "      <td>1716.000000</td>\n",
              "    </tr>\n",
              "  </tbody>\n",
              "</table>\n",
              "</div>\n",
              "    <div class=\"colab-df-buttons\">\n",
              "\n",
              "  <div class=\"colab-df-container\">\n",
              "    <button class=\"colab-df-convert\" onclick=\"convertToInteractive('df-4ad6f739-c7cf-475d-b7eb-56fd00fe388a')\"\n",
              "            title=\"Convert this dataframe to an interactive table.\"\n",
              "            style=\"display:none;\">\n",
              "\n",
              "  <svg xmlns=\"http://www.w3.org/2000/svg\" height=\"24px\" viewBox=\"0 -960 960 960\">\n",
              "    <path d=\"M120-120v-720h720v720H120Zm60-500h600v-160H180v160Zm220 220h160v-160H400v160Zm0 220h160v-160H400v160ZM180-400h160v-160H180v160Zm440 0h160v-160H620v160ZM180-180h160v-160H180v160Zm440 0h160v-160H620v160Z\"/>\n",
              "  </svg>\n",
              "    </button>\n",
              "\n",
              "  <style>\n",
              "    .colab-df-container {\n",
              "      display:flex;\n",
              "      gap: 12px;\n",
              "    }\n",
              "\n",
              "    .colab-df-convert {\n",
              "      background-color: #E8F0FE;\n",
              "      border: none;\n",
              "      border-radius: 50%;\n",
              "      cursor: pointer;\n",
              "      display: none;\n",
              "      fill: #1967D2;\n",
              "      height: 32px;\n",
              "      padding: 0 0 0 0;\n",
              "      width: 32px;\n",
              "    }\n",
              "\n",
              "    .colab-df-convert:hover {\n",
              "      background-color: #E2EBFA;\n",
              "      box-shadow: 0px 1px 2px rgba(60, 64, 67, 0.3), 0px 1px 3px 1px rgba(60, 64, 67, 0.15);\n",
              "      fill: #174EA6;\n",
              "    }\n",
              "\n",
              "    .colab-df-buttons div {\n",
              "      margin-bottom: 4px;\n",
              "    }\n",
              "\n",
              "    [theme=dark] .colab-df-convert {\n",
              "      background-color: #3B4455;\n",
              "      fill: #D2E3FC;\n",
              "    }\n",
              "\n",
              "    [theme=dark] .colab-df-convert:hover {\n",
              "      background-color: #434B5C;\n",
              "      box-shadow: 0px 1px 3px 1px rgba(0, 0, 0, 0.15);\n",
              "      filter: drop-shadow(0px 1px 2px rgba(0, 0, 0, 0.3));\n",
              "      fill: #FFFFFF;\n",
              "    }\n",
              "  </style>\n",
              "\n",
              "    <script>\n",
              "      const buttonEl =\n",
              "        document.querySelector('#df-4ad6f739-c7cf-475d-b7eb-56fd00fe388a button.colab-df-convert');\n",
              "      buttonEl.style.display =\n",
              "        google.colab.kernel.accessAllowed ? 'block' : 'none';\n",
              "\n",
              "      async function convertToInteractive(key) {\n",
              "        const element = document.querySelector('#df-4ad6f739-c7cf-475d-b7eb-56fd00fe388a');\n",
              "        const dataTable =\n",
              "          await google.colab.kernel.invokeFunction('convertToInteractive',\n",
              "                                                    [key], {});\n",
              "        if (!dataTable) return;\n",
              "\n",
              "        const docLinkHtml = 'Like what you see? Visit the ' +\n",
              "          '<a target=\"_blank\" href=https://colab.research.google.com/notebooks/data_table.ipynb>data table notebook</a>'\n",
              "          + ' to learn more about interactive tables.';\n",
              "        element.innerHTML = '';\n",
              "        dataTable['output_type'] = 'display_data';\n",
              "        await google.colab.output.renderOutput(dataTable, element);\n",
              "        const docLink = document.createElement('div');\n",
              "        docLink.innerHTML = docLinkHtml;\n",
              "        element.appendChild(docLink);\n",
              "      }\n",
              "    </script>\n",
              "  </div>\n",
              "\n",
              "\n",
              "<div id=\"df-d4c75f2a-458e-40c7-b48a-3dacd2ffec94\">\n",
              "  <button class=\"colab-df-quickchart\" onclick=\"quickchart('df-d4c75f2a-458e-40c7-b48a-3dacd2ffec94')\"\n",
              "            title=\"Suggest charts\"\n",
              "            style=\"display:none;\">\n",
              "\n",
              "<svg xmlns=\"http://www.w3.org/2000/svg\" height=\"24px\"viewBox=\"0 0 24 24\"\n",
              "     width=\"24px\">\n",
              "    <g>\n",
              "        <path d=\"M19 3H5c-1.1 0-2 .9-2 2v14c0 1.1.9 2 2 2h14c1.1 0 2-.9 2-2V5c0-1.1-.9-2-2-2zM9 17H7v-7h2v7zm4 0h-2V7h2v10zm4 0h-2v-4h2v4z\"/>\n",
              "    </g>\n",
              "</svg>\n",
              "  </button>\n",
              "\n",
              "<style>\n",
              "  .colab-df-quickchart {\n",
              "      --bg-color: #E8F0FE;\n",
              "      --fill-color: #1967D2;\n",
              "      --hover-bg-color: #E2EBFA;\n",
              "      --hover-fill-color: #174EA6;\n",
              "      --disabled-fill-color: #AAA;\n",
              "      --disabled-bg-color: #DDD;\n",
              "  }\n",
              "\n",
              "  [theme=dark] .colab-df-quickchart {\n",
              "      --bg-color: #3B4455;\n",
              "      --fill-color: #D2E3FC;\n",
              "      --hover-bg-color: #434B5C;\n",
              "      --hover-fill-color: #FFFFFF;\n",
              "      --disabled-bg-color: #3B4455;\n",
              "      --disabled-fill-color: #666;\n",
              "  }\n",
              "\n",
              "  .colab-df-quickchart {\n",
              "    background-color: var(--bg-color);\n",
              "    border: none;\n",
              "    border-radius: 50%;\n",
              "    cursor: pointer;\n",
              "    display: none;\n",
              "    fill: var(--fill-color);\n",
              "    height: 32px;\n",
              "    padding: 0;\n",
              "    width: 32px;\n",
              "  }\n",
              "\n",
              "  .colab-df-quickchart:hover {\n",
              "    background-color: var(--hover-bg-color);\n",
              "    box-shadow: 0 1px 2px rgba(60, 64, 67, 0.3), 0 1px 3px 1px rgba(60, 64, 67, 0.15);\n",
              "    fill: var(--button-hover-fill-color);\n",
              "  }\n",
              "\n",
              "  .colab-df-quickchart-complete:disabled,\n",
              "  .colab-df-quickchart-complete:disabled:hover {\n",
              "    background-color: var(--disabled-bg-color);\n",
              "    fill: var(--disabled-fill-color);\n",
              "    box-shadow: none;\n",
              "  }\n",
              "\n",
              "  .colab-df-spinner {\n",
              "    border: 2px solid var(--fill-color);\n",
              "    border-color: transparent;\n",
              "    border-bottom-color: var(--fill-color);\n",
              "    animation:\n",
              "      spin 1s steps(1) infinite;\n",
              "  }\n",
              "\n",
              "  @keyframes spin {\n",
              "    0% {\n",
              "      border-color: transparent;\n",
              "      border-bottom-color: var(--fill-color);\n",
              "      border-left-color: var(--fill-color);\n",
              "    }\n",
              "    20% {\n",
              "      border-color: transparent;\n",
              "      border-left-color: var(--fill-color);\n",
              "      border-top-color: var(--fill-color);\n",
              "    }\n",
              "    30% {\n",
              "      border-color: transparent;\n",
              "      border-left-color: var(--fill-color);\n",
              "      border-top-color: var(--fill-color);\n",
              "      border-right-color: var(--fill-color);\n",
              "    }\n",
              "    40% {\n",
              "      border-color: transparent;\n",
              "      border-right-color: var(--fill-color);\n",
              "      border-top-color: var(--fill-color);\n",
              "    }\n",
              "    60% {\n",
              "      border-color: transparent;\n",
              "      border-right-color: var(--fill-color);\n",
              "    }\n",
              "    80% {\n",
              "      border-color: transparent;\n",
              "      border-right-color: var(--fill-color);\n",
              "      border-bottom-color: var(--fill-color);\n",
              "    }\n",
              "    90% {\n",
              "      border-color: transparent;\n",
              "      border-bottom-color: var(--fill-color);\n",
              "    }\n",
              "  }\n",
              "</style>\n",
              "\n",
              "  <script>\n",
              "    async function quickchart(key) {\n",
              "      const quickchartButtonEl =\n",
              "        document.querySelector('#' + key + ' button');\n",
              "      quickchartButtonEl.disabled = true;  // To prevent multiple clicks.\n",
              "      quickchartButtonEl.classList.add('colab-df-spinner');\n",
              "      try {\n",
              "        const charts = await google.colab.kernel.invokeFunction(\n",
              "            'suggestCharts', [key], {});\n",
              "      } catch (error) {\n",
              "        console.error('Error during call to suggestCharts:', error);\n",
              "      }\n",
              "      quickchartButtonEl.classList.remove('colab-df-spinner');\n",
              "      quickchartButtonEl.classList.add('colab-df-quickchart-complete');\n",
              "    }\n",
              "    (() => {\n",
              "      let quickchartButtonEl =\n",
              "        document.querySelector('#df-d4c75f2a-458e-40c7-b48a-3dacd2ffec94 button');\n",
              "      quickchartButtonEl.style.display =\n",
              "        google.colab.kernel.accessAllowed ? 'block' : 'none';\n",
              "    })();\n",
              "  </script>\n",
              "</div>\n",
              "\n",
              "    </div>\n",
              "  </div>\n"
            ],
            "application/vnd.google.colaboratory.intrinsic+json": {
              "type": "dataframe",
              "summary": "{\n  \"name\": \"data\",\n  \"rows\": 8,\n  \"fields\": [\n    {\n      \"column\": \"% rating\",\n      \"properties\": {\n        \"dtype\": \"number\",\n        \"std\": 293.0943239890721,\n        \"min\": 13.206290480183137,\n        \"max\": 899.0,\n        \"num_unique_values\": 6,\n        \"samples\": [\n          899.0,\n          91.7908787541713,\n          100.0\n        ],\n        \"semantic_type\": \"\",\n        \"description\": \"\"\n      }\n    },\n    {\n      \"column\": \"helpful_count\",\n      \"properties\": {\n        \"dtype\": \"number\",\n        \"std\": 637.0422889200184,\n        \"min\": 0.0,\n        \"max\": 1716.0,\n        \"num_unique_values\": 6,\n        \"samples\": [\n          899.0,\n          12.03448275862069,\n          1716.0\n        ],\n        \"semantic_type\": \"\",\n        \"description\": \"\"\n      }\n    }\n  ]\n}"
            }
          },
          "metadata": {},
          "execution_count": 37
        }
      ]
    },
    {
      "cell_type": "markdown",
      "source": [
        "I repeated this process of obtaining key statistics but manually and with more statistics, including all the above and additionally kurtosis, median, and mode. Note: this next cell is quite long."
      ],
      "metadata": {
        "id": "7QkB5ePO3oDb"
      }
    },
    {
      "cell_type": "code",
      "source": [
        "beats_mean_rating = data.loc[data['product_id'] == 'Beats', '% rating'].mean()\n",
        "beats_median_rating = data.loc[data['product_id'] == 'Beats', '% rating'].median()\n",
        "beats_mode_rating = data.loc[data['product_id'] == 'Beats', '% rating'].mode()[0]\n",
        "beats_variance_rating = data.loc[data['product_id'] == 'Beats', '% rating'].var()\n",
        "beats_std_rating = data.loc[data['product_id'] == 'Beats', '% rating'].std()\n",
        "beats_quantiles_rating = data.loc[data['product_id'] == 'Beats', '% rating'].quantile([0.25, 0.5, 0.75])\n",
        "beats_skew = data.loc[data['product_id'] == 'Beats', '% rating'].skew()\n",
        "\n",
        "print(\"Beats Mean Rating:\", beats_mean_rating)\n",
        "print(\"Beats Median Rating:\", beats_median_rating)\n",
        "print(\"Beats Mode Rating:\", beats_mode_rating)\n",
        "print(\"Beats Variance Rating:\", beats_variance_rating)\n",
        "print(\"Beats Standard Deviation Rating:\", beats_std_rating)\n",
        "print(\"Beats Quantiles Rating:\", beats_quantiles_rating)\n",
        "print(\"Beats Skew Rating:\", beats_skew)\n",
        "\n",
        "print()\n",
        "print()\n",
        "\n",
        "bose_mean_rating = data.loc[data['product_id'] == 'Bose', '% rating'].mean()\n",
        "bose_median_rating = data.loc[data['product_id'] == 'Bose', '% rating'].median()\n",
        "bose_mode_rating = data.loc[data['product_id'] == 'Bose', '% rating'].mode()[0]\n",
        "bose_variance_rating = data.loc[data['product_id'] == 'Bose', '% rating'].var()\n",
        "bose_std_rating = data.loc[data['product_id'] == 'Bose', '% rating'].std()\n",
        "bose_quantiles_rating = data.loc[data['product_id'] == 'Bose', '% rating'].quantile([0.25, 0.5, 0.75])\n",
        "bose_skew = data.loc[data['product_id'] == 'Bose', '% rating'].skew()\n",
        "\n",
        "print(\"Bose Mean Rating:\", bose_mean_rating)\n",
        "print(\"Bose Median Rating:\", bose_median_rating)\n",
        "print(\"Bose Mode Rating:\", bose_mode_rating)\n",
        "print(\"Bose Variance Rating:\", bose_variance_rating)\n",
        "print(\"Bose Standard Deviation Rating:\", bose_std_rating)\n",
        "print(\"Bose Quantiles Rating:\", bose_quantiles_rating)\n",
        "print(\"Bose Skew Rating:\", bose_skew)\n",
        "\n",
        "print()\n",
        "print()\n",
        "\n",
        "apple_mean_rating = data.loc[data['product_id'] == 'Apple', '% rating'].mean()\n",
        "apple_median_rating = data.loc[data['product_id'] == 'Apple', '% rating'].median()\n",
        "apple_mode_rating = data.loc[data['product_id'] == 'Apple', '% rating'].mode()[0]\n",
        "apple_variance_rating = data.loc[data['product_id'] == 'Apple', '% rating'].var()\n",
        "apple_std_rating = data.loc[data['product_id'] == 'Apple', '% rating'].std()\n",
        "apple_quantiles_rating = data.loc[data['product_id'] == 'Apple', '% rating'].quantile([0.25, 0.5, 0.75])\n",
        "apple_skew = data.loc[data['product_id'] == 'Apple', '% rating'].skew()\n",
        "\n",
        "print(\"Apple Mean Rating:\", apple_mean_rating)\n",
        "print(\"Apple Median Rating:\", apple_median_rating)\n",
        "print(\"Apple Mode Rating:\", apple_mode_rating)\n",
        "print(\"Apple Variance Rating:\", apple_variance_rating)\n",
        "print(\"Apple Standard Deviation Rating:\", apple_std_rating)\n",
        "print(\"Apple Quantiles Rating:\", apple_quantiles_rating)\n",
        "print(\"Apple Skew Rating:\", apple_skew)\n",
        "\n",
        "print()\n",
        "print()\n",
        "\n",
        "jbl_mean_rating = data.loc[data['product_id'] == 'JBL', '% rating'].mean()\n",
        "jbl_median_rating = data.loc[data['product_id'] == 'JBL', '% rating'].median()\n",
        "jbl_mode_rating = data.loc[data['product_id'] == 'JBL', '% rating'].mode()[0]\n",
        "jbl_variance_rating = data.loc[data['product_id'] == 'JBL', '% rating'].var()\n",
        "jbl_std_rating = data.loc[data['product_id'] == 'JBL', '% rating'].std()\n",
        "jbl_quantiles_rating = data.loc[data['product_id'] == 'JBL', '% rating'].quantile([0.25, 0.5, 0.75])\n",
        "jbl_skew = data.loc[data['product_id'] == 'JBL', '% rating'].skew()\n",
        "\n",
        "print(\"JBL Mean Rating:\", jbl_mean_rating)\n",
        "print(\"JBL Median Rating:\", jbl_median_rating)\n",
        "print(\"JBL Mode Rating:\", jbl_mode_rating)\n",
        "print(\"JBL Variance Rating:\", jbl_variance_rating)\n",
        "print(\"JBL Standard Deviation Rating:\", jbl_std_rating)\n",
        "print(\"JBL Quantiles Rating:\", jbl_quantiles_rating)\n",
        "print(\"JBL Skew Rating:\", jbl_skew)\n",
        "\n",
        "print()\n",
        "print()\n",
        "\n",
        "sennheiser_mean_rating = data.loc[data['product_id'] == 'Sennheiser', '% rating'].mean()\n",
        "sennheiser_median_rating = data.loc[data['product_id'] == 'Sennheiser', '% rating'].median()\n",
        "sennheiser_mode_rating = data.loc[data['product_id'] == 'Sennheiser', '% rating'].mode()[0]\n",
        "sennheiser_variance_rating = data.loc[data['product_id'] == 'Sennheiser', '% rating'].var()\n",
        "sennheiser_std_rating = data.loc[data['product_id'] == 'Sennheiser', '% rating'].std()\n",
        "sennheiser_quantiles_rating = data.loc[data['product_id'] == 'Sennheiser', '% rating'].quantile([0.25, 0.5, 0.75])\n",
        "sennheiser_skew = data.loc[data['product_id'] == 'Sennheiser', '% rating'].skew()\n",
        "\n",
        "print(\"Sennheiser Mean Rating:\", sennheiser_mean_rating)\n",
        "print(\"Sennheiser Median Rating:\", sennheiser_median_rating)\n",
        "print(\"Sennheiser Mode Rating:\", sennheiser_mode_rating)\n",
        "print(\"Sennheiser Variance Rating:\", sennheiser_variance_rating)\n",
        "print(\"Sennheiser Standard Deviation Rating:\", sennheiser_std_rating)\n",
        "print(\"Sennheiser Quantiles Rating:\", sennheiser_quantiles_rating)\n",
        "print(\"Sennheiser Skew Rating:\", sennheiser_skew)\n",
        "\n",
        "print()\n",
        "print()\n",
        "\n",
        "sony_mean_rating = data.loc[data['product_id'] == 'Sony', '% rating'].mean()\n",
        "sony_median_rating = data.loc[data['product_id'] == 'Sony', '% rating'].median()\n",
        "sony_mode_rating = data.loc[data['product_id'] == 'Sony', '% rating'].mode()[0]\n",
        "sony_variance_rating = data.loc[data['product_id'] == 'Sony', '% rating'].var()\n",
        "sony_std_rating = data.loc[data['product_id'] == 'Sony', '% rating'].std()\n",
        "sony_quantiles_rating = data.loc[data['product_id'] == 'Sony', '% rating'].quantile([0.25, 0.5, 0.75])\n",
        "sony_skew = data.loc[data['product_id'] == 'Sony', '% rating'].skew()\n",
        "\n",
        "print(\"Sony Mean Rating:\", sony_mean_rating)\n",
        "print(\"Sony Median Rating:\", sony_median_rating)\n",
        "print(\"Sony Mode Rating:\", sony_mode_rating)\n",
        "print(\"Sony Variance Rating:\", sony_variance_rating)\n",
        "print(\"Sony Standard Deviation Rating:\", sony_std_rating)\n",
        "print(\"Sony Quantiles Rating:\", sony_quantiles_rating)\n",
        "print(\"Sony Skew Rating:\", sony_skew)\n",
        "\n",
        "print()\n",
        "print()\n",
        "\n",
        "beribes_mean_rating = data.loc[data['product_id'] == 'Beribes', '% rating'].mean()\n",
        "beribes_median_rating = data.loc[data['product_id'] == 'Beribes', '% rating'].median()\n",
        "beribes_mode_rating = data.loc[data['product_id'] == 'Beribes', '% rating'].mode()[0]\n",
        "beribes_variance_rating = data.loc[data['product_id'] == 'Beribes', '% rating'].var()\n",
        "beribes_std_rating = data.loc[data['product_id'] == 'Beribes', '% rating'].std()\n",
        "beribes_quantiles_rating = data.loc[data['product_id'] == 'Beribes', '% rating'].quantile([0.25, 0.5, 0.75])\n",
        "beribes_skew = data.loc[data['product_id'] == 'Beribes', '% rating'].skew()\n",
        "\n",
        "print(\"Beribes Mean Rating:\", beribes_mean_rating)\n",
        "print(\"Beribes Median Rating:\", beribes_median_rating)\n",
        "print(\"Beribes Mode Rating:\", beribes_mode_rating)\n",
        "print(\"Beribes Variance Rating:\", beribes_variance_rating)\n",
        "print(\"Beribes Standard Deviation Rating:\", beribes_std_rating)\n",
        "print(\"Beribes Quantiles Rating:\", beribes_quantiles_rating)\n",
        "print(\"Beribes Skew Rating:\", beribes_skew)\n",
        "\n",
        "print()\n",
        "print()\n",
        "\n",
        "picun_mean_rating = data.loc[data['product_id'] == 'Picun', '% rating'].mean()\n",
        "picun_median_rating = data.loc[data['product_id'] == 'Picun', '% rating'].median()\n",
        "picun_mode_rating = data.loc[data['product_id'] == 'Picun', '% rating'].mode()[0]\n",
        "picun_variance_rating = data.loc[data['product_id'] == 'Picun', '% rating'].var()\n",
        "picun_std_rating = data.loc[data['product_id'] == 'Picun', '% rating'].std()\n",
        "picun_quantiles_rating = data.loc[data['product_id'] == 'Picun', '% rating'].quantile([0.25, 0.5, 0.75])\n",
        "picun_skew = data.loc[data['product_id'] == 'Picun', '% rating'].skew()\n",
        "\n",
        "print(\"Picun Mean Rating:\", picun_mean_rating)\n",
        "print(\"Picun Median Rating:\", picun_median_rating)\n",
        "print(\"Picun Mode Rating:\", picun_mode_rating)\n",
        "print(\"Picun Variance Rating:\", picun_variance_rating)\n",
        "print(\"Picun Standard Deviation Rating:\", picun_std_rating)\n",
        "print(\"Picun Quantiles Rating:\", picun_quantiles_rating)\n",
        "print(\"Picun Skew Rating:\", picun_skew)\n",
        "\n",
        "print()\n",
        "print()\n",
        "\n",
        "treblab_mean_rating = data.loc[data['product_id'] == 'Treblab', '% rating'].mean()\n",
        "treblab_median_rating = data.loc[data['product_id'] == 'Treblab', '% rating'].median()\n",
        "# treblab_mode_rating = data.loc[data['product_id'] == 'Treblab', '% rating'].mode()[0]\n",
        "treblab_variance_rating = data.loc[data['product_id'] == 'Treblab', '% rating'].var()\n",
        "treblab_std_rating = data.loc[data['product_id'] == 'Treblab', '% rating'].std()\n",
        "treblab_quantiles_rating = data.loc[data['product_id'] == 'Treblab', '% rating'].quantile([0.25, 0.5, 0.75])\n",
        "treblab_skew = data.loc[data['product_id'] == 'Treblab', '% rating'].skew()\n",
        "\n",
        "print(\"Treblab Mean Rating:\", treblab_mean_rating)\n",
        "print(\"Treblab Median Rating:\", treblab_median_rating)\n",
        "# print(\"Treblab Mode Rating:\", treblab_mode_rating)\n",
        "print(\"Treblab Variance Rating:\", treblab_variance_rating)\n",
        "print(\"Treblab Standard Deviation Rating:\", treblab_std_rating)\n",
        "print(\"Treblab Quantiles Rating:\", treblab_quantiles_rating)\n",
        "print(\"Treblab Skew Rating:\", treblab_skew)\n",
        "\n",
        "print()\n",
        "print()\n",
        "\n",
        "skullcandy_mean_rating = data.loc[data['product_id'] == 'Skullcandy', '% rating'].mean()\n",
        "skullcandy_median_rating = data.loc[data['product_id'] == 'Skullcandy', '% rating'].median()\n",
        "skullcandy_mode_rating = data.loc[data['product_id'] == 'Skullcandy', '% rating'].mode()[0]\n",
        "skullcandy_variance_rating = data.loc[data['product_id'] == 'Skullcandy', '% rating'].var()\n",
        "skullcandy_std_rating = data.loc[data['product_id'] == 'Skullcandy', '% rating'].std()\n",
        "skullcandy_quantiles_rating = data.loc[data['product_id'] == 'Skullcandy', '% rating'].quantile([0.25, 0.5, 0.75])\n",
        "skullcandy_skew = data.loc[data['product_id'] == 'Skullcandy', '% rating'].skew()\n",
        "\n",
        "print(\"Skullcandy Mean Rating:\", skullcandy_mean_rating)\n",
        "print(\"Skullcandy Median Rating:\", skullcandy_median_rating)\n",
        "print(\"Skullcandy Mode Rating:\", skullcandy_mode_rating)\n",
        "print(\"Skullcandy Variance Rating:\", skullcandy_variance_rating)\n",
        "print(\"Skullcandy Standard Deviation Rating:\", skullcandy_std_rating)\n",
        "print(\"Skullcandy Quantiles Rating:\", skullcandy_quantiles_rating)\n",
        "print(\"Skullcandy Skew Rating:\", skullcandy_skew)"
      ],
      "metadata": {
        "colab": {
          "base_uri": "https://localhost:8080/"
        },
        "id": "wpiuBHSIC4q7",
        "outputId": "197c40ee-b537-4459-85f7-8f4b619000b7"
      },
      "execution_count": 38,
      "outputs": [
        {
          "output_type": "stream",
          "name": "stdout",
          "text": [
            "Beats Mean Rating: 94.4\n",
            "Beats Median Rating: 100.0\n",
            "Beats Mode Rating: 100.0\n",
            "Beats Variance Rating: 89.53535353535355\n",
            "Beats Standard Deviation Rating: 9.462312272132724\n",
            "Beats Quantiles Rating: 0.25     80.0\n",
            "0.50    100.0\n",
            "0.75    100.0\n",
            "Name: % rating, dtype: float64\n",
            "Beats Skew Rating: -1.2837925564780543\n",
            "\n",
            "\n",
            "Bose Mean Rating: 96.6\n",
            "Bose Median Rating: 100.0\n",
            "Bose Mode Rating: 100.0\n",
            "Bose Variance Rating: 73.17171717171718\n",
            "Bose Standard Deviation Rating: 8.554046830110131\n",
            "Bose Quantiles Rating: 0.25    100.0\n",
            "0.50    100.0\n",
            "0.75    100.0\n",
            "Name: % rating, dtype: float64\n",
            "Bose Skew Rating: -2.5389500327115395\n",
            "\n",
            "\n",
            "Apple Mean Rating: 89.6\n",
            "Apple Median Rating: 100.0\n",
            "Apple Mode Rating: 100.0\n",
            "Apple Variance Rating: 278.62626262626264\n",
            "Apple Standard Deviation Rating: 16.69210180373528\n",
            "Apple Quantiles Rating: 0.25     80.0\n",
            "0.50    100.0\n",
            "0.75    100.0\n",
            "Name: % rating, dtype: float64\n",
            "Apple Skew Rating: -1.3183914202036437\n",
            "\n",
            "\n",
            "JBL Mean Rating: 84.4\n",
            "JBL Median Rating: 80.0\n",
            "JBL Mode Rating: 100.0\n",
            "JBL Variance Rating: 255.19191919191923\n",
            "JBL Standard Deviation Rating: 15.974727515420074\n",
            "JBL Quantiles Rating: 0.25     80.0\n",
            "0.50     80.0\n",
            "0.75    100.0\n",
            "Name: % rating, dtype: float64\n",
            "JBL Skew Rating: -0.7837986830971719\n",
            "\n",
            "\n",
            "Sennheiser Mean Rating: 86.0\n",
            "Sennheiser Median Rating: 80.0\n",
            "Sennheiser Mode Rating: 100.0\n",
            "Sennheiser Variance Rating: 246.46464646464648\n",
            "Sennheiser Standard Deviation Rating: 15.699192541804386\n",
            "Sennheiser Quantiles Rating: 0.25     80.0\n",
            "0.50     80.0\n",
            "0.75    100.0\n",
            "Name: % rating, dtype: float64\n",
            "Sennheiser Skew Rating: -0.7160379598289096\n",
            "\n",
            "\n",
            "Sony Mean Rating: 87.47474747474747\n",
            "Sony Median Rating: 100.0\n",
            "Sony Mode Rating: 100.0\n",
            "Sony Variance Rating: 241.5172129457844\n",
            "Sony Standard Deviation Rating: 15.540824075504633\n",
            "Sony Quantiles Rating: 0.25     80.0\n",
            "0.50    100.0\n",
            "0.75    100.0\n",
            "Name: % rating, dtype: float64\n",
            "Sony Skew Rating: -0.8992718277378176\n",
            "\n",
            "\n",
            "Beribes Mean Rating: 95.6\n",
            "Beribes Median Rating: 100.0\n",
            "Beribes Mode Rating: 100.0\n",
            "Beribes Variance Rating: 69.33333333333331\n",
            "Beribes Standard Deviation Rating: 8.32666399786453\n",
            "Beribes Quantiles Rating: 0.25    100.0\n",
            "0.50    100.0\n",
            "0.75    100.0\n",
            "Name: % rating, dtype: float64\n",
            "Beribes Skew Rating: -1.3725270326150312\n",
            "\n",
            "\n",
            "Picun Mean Rating: 96.0\n",
            "Picun Median Rating: 100.0\n",
            "Picun Mode Rating: 100.0\n",
            "Picun Variance Rating: 64.64646464646465\n",
            "Picun Standard Deviation Rating: 8.040302522073697\n",
            "Picun Quantiles Rating: 0.25    100.0\n",
            "0.50    100.0\n",
            "0.75    100.0\n",
            "Name: % rating, dtype: float64\n",
            "Picun Skew Rating: -1.5229399547550306\n",
            "\n",
            "\n",
            "Treblab Mean Rating: nan\n",
            "Treblab Median Rating: nan\n",
            "Treblab Variance Rating: nan\n",
            "Treblab Standard Deviation Rating: nan\n",
            "Treblab Quantiles Rating: 0.25   NaN\n",
            "0.50   NaN\n",
            "0.75   NaN\n",
            "Name: % rating, dtype: float64\n",
            "Treblab Skew Rating: nan\n",
            "\n",
            "\n",
            "Skullcandy Mean Rating: 96.0\n",
            "Skullcandy Median Rating: 100.0\n",
            "Skullcandy Mode Rating: 100.0\n",
            "Skullcandy Variance Rating: 72.72727272727273\n",
            "Skullcandy Standard Deviation Rating: 8.528028654224418\n",
            "Skullcandy Quantiles Rating: 0.25    100.0\n",
            "0.50    100.0\n",
            "0.75    100.0\n",
            "Name: % rating, dtype: float64\n",
            "Skullcandy Skew Rating: -1.9144554121728286\n"
          ]
        }
      ]
    },
    {
      "cell_type": "markdown",
      "source": [
        "### 5.2 Visualizations\n",
        "Include relevant visualizations (histograms, box plots, scatter plots, etc.) and explain what each visualization reveals about the data."
      ],
      "metadata": {
        "id": "sV0UqGEFgLeB"
      }
    },
    {
      "cell_type": "markdown",
      "source": [
        "I made 3 separate pandas DataFrames of specific statistics, specifically mean ratings, skew of ratings, and mean of helpful count, to make visualization easier and compare these values per company."
      ],
      "metadata": {
        "id": "Kb5QDs_wJ6uW"
      }
    },
    {
      "cell_type": "code",
      "source": [
        "mean_ratings_companies = pd.DataFrame({\n",
        "    'product_id': ['Beats', 'Apple', 'Sony', 'Beribes', 'JBL', 'Picun','Sennheiser', 'Skullcandy', \"Bose\"],\n",
        "    'mean_rating': [beats_mean_rating, apple_mean_rating, sony_mean_rating, beribes_mean_rating, jbl_mean_rating, picun_mean_rating, sennheiser_mean_rating, skullcandy_mean_rating, bose_mean_rating]\n",
        "})"
      ],
      "metadata": {
        "id": "YBuvgi_igOIz"
      },
      "execution_count": 39,
      "outputs": []
    },
    {
      "cell_type": "code",
      "source": [
        "skew_ratings_companies = pd.DataFrame({\n",
        "    'product_id': ['Beats', 'Apple', 'Sony', 'Beribes', 'JBL', 'Picun','Sennheiser', 'Skullcandy', \"Bose\"],\n",
        "    'skew': [beats_skew, apple_skew, sony_skew, beribes_skew, jbl_skew, picun_skew, sennheiser_skew, skullcandy_skew, bose_skew]\n",
        "})"
      ],
      "metadata": {
        "id": "sP9RMUMuDfzm"
      },
      "execution_count": 40,
      "outputs": []
    },
    {
      "cell_type": "code",
      "source": [
        "bose_mean_helpful_count = data.loc[data['product_id'] == 'Bose', 'helpful_count'].mean()\n",
        "beats_mean_helpful_count = data.loc[data['product_id'] == 'Beats', 'helpful_count'].mean()\n",
        "apple_mean_helpful_count = data.loc[data['product_id'] == 'Apple', 'helpful_count'].mean()\n",
        "jbl_mean_helpful_count = data.loc[data['product_id'] == 'JBL', 'helpful_count'].mean()\n",
        "sennheiser_mean_helpful_count = data.loc[data['product_id'] == 'Sennheiser', 'helpful_count'].mean()\n",
        "picun_mean_helpful_count = data.loc[data['product_id'] == 'Picun', 'helpful_count'].mean()\n",
        "beribes_mean_helpful_count = data.loc[data['product_id'] == 'Beribes', 'helpful_count'].mean()\n",
        "sony_mean_helpful_count = data.loc[data['product_id'] == 'Sony', 'helpful_count'].mean()\n",
        "skullcandy_mean_helpful_count = data.loc[data['product_id'] == 'Skullcandy', 'helpful_count'].mean()\n"
      ],
      "metadata": {
        "id": "kQaeOzGcD8XX"
      },
      "execution_count": 41,
      "outputs": []
    },
    {
      "cell_type": "code",
      "source": [
        "mean_help_companies = pd.DataFrame({\n",
        "    'product_id': ['Beats', 'Apple', 'Sony', 'Beribes', 'JBL', 'Picun','Sennheiser', 'Skullcandy', \"Bose\"],\n",
        "    'mean': [beats_mean_helpful_count, apple_mean_helpful_count, sony_mean_helpful_count, beribes_mean_helpful_count, jbl_mean_helpful_count, picun_mean_helpful_count, sennheiser_mean_helpful_count, skullcandy_mean_helpful_count, bose_mean_helpful_count]\n",
        "})"
      ],
      "metadata": {
        "id": "ihtYWH86Df8g"
      },
      "execution_count": 42,
      "outputs": []
    },
    {
      "cell_type": "markdown",
      "source": [
        "This first bar plot shows the mean rating, in percentage values, of all the headphones products I gathered data of, including Beats and the 9 other competitors. The higher the rating value of a company's headphone product, the more liked that product is. Per this dataset, Bose, Skullcandy, Beribes, Picun and Beats represent the top contenders of most well-rated headphone products, however Beat is not the highest one per these ratings.\n",
        "\n",
        "It is also important to note that as the web scraper only scraped the last 100 reviews, there is bias on the overall reviews as not all of them are considered, meaning less-obscure brands like Picun and Beribes could have higher ratings simply because they have less ratings overall so their last 100 could be more positively reflecting than the others."
      ],
      "metadata": {
        "id": "r7_pa2GuKLu4"
      }
    },
    {
      "cell_type": "code",
      "source": [
        "plt.barh(mean_ratings_companies[\"product_id\"], mean_ratings_companies[\"mean_rating\"])\n",
        "plt.title('Rating Percentages Chart of Beats Vs Competitors')\n",
        "plt.xlabel('Company')\n",
        "plt.ylabel('% ratings')\n",
        "plt.show()"
      ],
      "metadata": {
        "colab": {
          "base_uri": "https://localhost:8080/",
          "height": 472
        },
        "id": "qoOB1elSDgAU",
        "outputId": "bc3001e2-bffe-4c99-b776-2dd6736e8187"
      },
      "execution_count": 43,
      "outputs": [
        {
          "output_type": "display_data",
          "data": {
            "text/plain": [
              "<Figure size 640x480 with 1 Axes>"
            ],
            "image/png": "[encoded data removed]"
          },
          "metadata": {}
        }
      ]
    },
    {
      "cell_type": "markdown",
      "source": [
        "Here is another bar plot representing the skew, or the asymmetry of our data that can indicate where most of the data points fall on our distributin, of each company's headphone product reviews. A skew closer to -1 indicates more points fall on the left side of the distribution, and in terms of ratings, that means lower ratings overall, while a skew closer to +1 indicates more points falling on the right side of the distribution and higher ratings overall for that company. Per the plot, it is evident that companies like Sennheiser, JBL, Sony, and Beats have the lowest reported skewness scores, which indicates the majority of their points fall on the higher ratings side, however as we see Beats does not have the highest skew, meaning it is not the highest rating as we saw in the other plot."
      ],
      "metadata": {
        "id": "L3no31KnMh0c"
      }
    },
    {
      "cell_type": "code",
      "source": [
        "plt.barh(mean_ratings_companies[\"product_id\"], skew_ratings_companies[\"skew\"])\n",
        "plt.title('Rating Percentages Chart of Beats Vs Competitors')\n",
        "plt.xlabel('Skew')\n",
        "plt.ylabel('Company')\n",
        "plt.show()"
      ],
      "metadata": {
        "colab": {
          "base_uri": "https://localhost:8080/",
          "height": 472
        },
        "id": "Aws6Z6kZDgDt",
        "outputId": "888c9d9a-50f5-4bdc-81d2-73386d77a3cc"
      },
      "execution_count": 44,
      "outputs": [
        {
          "output_type": "display_data",
          "data": {
            "text/plain": [
              "<Figure size 640x480 with 1 Axes>"
            ],
            "image/png": "[encoded data removed]"
          },
          "metadata": {}
        }
      ]
    },
    {
      "cell_type": "markdown",
      "source": [
        "In this facet-grid line plot, I compared the average ratings of reviews over time for the top 4 most popular rival companies: Bose, Sony, Apple, Beats. The line plot suggests consistency of ratings over the last few months, where the most recent reviews were scraped. In this sense, Beats' reviews seem to remain in high average ratings throughout the reviews, while companies like Apple skyrocket in ratings to both extremes. Beats remains the most consistent out of the four companies for good quality."
      ],
      "metadata": {
        "id": "YliQ3o5xOx7L"
      }
    },
    {
      "cell_type": "code",
      "source": [
        "companies_of_interest = ['Bose', 'Sony', 'Apple', 'Beats']\n",
        "filtered_data = data[data['product_id'].isin(companies_of_interest)].copy()\n",
        "\n",
        "filtered_data['timestamp'] = pd.to_datetime(filtered_data['timestamp'], format='%m/%d/%Y')\n",
        "comparison_date = pd.to_datetime('2024-03-31', format='%Y-%m-%d')\n",
        "filtered_data = filtered_data[filtered_data['timestamp'] > comparison_date]\n",
        "\n",
        "grouped_data = filtered_data.groupby(['product_id', 'timestamp'])['% rating'].mean().reset_index()\n",
        "g = sns.FacetGrid(grouped_data, col='product_id', col_wrap=2, height=4, aspect=1.5)\n",
        "g.map(sns.lineplot, 'timestamp', '% rating', errorbar=None)\n",
        "g.set_titles(col_template=\"{col_name}\")\n",
        "g.set_axis_labels('Timestamp', 'Mean Rating')\n",
        "\n",
        "for ax in g.axes.flat:\n",
        "    for label in ax.get_xticklabels():\n",
        "        label.set_rotation(45)\n",
        "\n",
        "plt.tight_layout()\n",
        "plt.show()"
      ],
      "metadata": {
        "colab": {
          "base_uri": "https://localhost:8080/",
          "height": 797
        },
        "id": "oi0FXITxEI62",
        "outputId": "b4b19b43-1780-4d93-e44b-5b94a7df0fd2"
      },
      "execution_count": 45,
      "outputs": [
        {
          "output_type": "display_data",
          "data": {
            "text/plain": [
              "<Figure size 1200x800 with 4 Axes>"
            ],
            "image/png": "[encoded data removed]"
          },
          "metadata": {}
        }
      ]
    },
    {
      "cell_type": "markdown",
      "source": [
        "In this pie chart, I analyzed what color is most popular with Beats users, by the colors with the highest rating. While four colors appear very close in popularity, neutral tones like black and sandstone appear to be the more popular ones."
      ],
      "metadata": {
        "id": "wKqqrQEUP-sc"
      }
    },
    {
      "cell_type": "code",
      "source": [
        "beats_data = data[data['product_id'] == 'Beats']\n",
        "color_ratings = beats_data.groupby('color')['% rating'].mean().reset_index()\n",
        "top_colors = color_ratings.nlargest(5, '% rating')\n",
        "\n",
        "plt.pie(top_colors['% rating'], labels=top_colors['color'], autopct='%1.1f%%', startangle=140)\n",
        "plt.title('Top Colors with Highest Ratings for Beats')\n",
        "plt.show()"
      ],
      "metadata": {
        "colab": {
          "base_uri": "https://localhost:8080/",
          "height": 428
        },
        "id": "oprIs2_HERrh",
        "outputId": "009ac306-c582-49e4-ac53-8b8d1bd5ddd6"
      },
      "execution_count": 46,
      "outputs": [
        {
          "output_type": "display_data",
          "data": {
            "text/plain": [
              "<Figure size 640x480 with 1 Axes>"
            ],
            "image/png": "[encoded data removed]"
          },
          "metadata": {}
        }
      ]
    },
    {
      "cell_type": "markdown",
      "source": [
        "With this correlation matrix heatmap, I tried to explore the relationship between the data's two numerical variables: percentage rating of reviews and helpful count, which represents the number of people who liked/agreed with each review. Based on the off-diagonals, a correlation coefficient of -0.013 indicates there is little to no linear relationship between the two. This indicates that the helpful count is not indicative of when a product is highly rated or not, but can still be useful to explore for potential strong negative sentiment."
      ],
      "metadata": {
        "id": "iZzV8PcAQfqG"
      }
    },
    {
      "cell_type": "code",
      "source": [
        "corr_matrix = np.corrcoef(data[\"% rating\"], data[\"helpful_count\"])\n",
        "sns.heatmap(corr_matrix, annot=True, cmap='coolwarm')\n",
        "plt.title('Correlation Matrix Heatmap')\n",
        "plt.show()"
      ],
      "metadata": {
        "colab": {
          "base_uri": "https://localhost:8080/",
          "height": 452
        },
        "id": "bZrsx3VUERt7",
        "outputId": "529c6cb8-8df2-4993-b0a8-28f8a9a8fdc4"
      },
      "execution_count": 47,
      "outputs": [
        {
          "output_type": "display_data",
          "data": {
            "text/plain": [
              "<Figure size 640x480 with 2 Axes>"
            ],
            "image/png": "[encoded data removed]"
          },
          "metadata": {}
        }
      ]
    },
    {
      "cell_type": "markdown",
      "source": [
        "### 5.3 Descriptive Statistics\n",
        "Discuss key findings from the descriptive statistics, highlighting any patterns, trends, or anomalies."
      ],
      "metadata": {
        "id": "MPeXScFFgOuZ"
      }
    },
    {
      "cell_type": "markdown",
      "source": [
        "In terms of the descriptive statistics, the key findings seem to be that Beats is the most consistent with good reviews over times, and is in the top 5 of most highly rated mean of reviews, and in the top 5 of lowest skew, which places Beats in high regard in the market. This trend also seems to follow with the comparison of all the standard deviations of each company's headphones product as well. Beats seems to continuousally not be the highest in any of these statistics, but seems to be near the top for all the significant ones."
      ],
      "metadata": {
        "id": "3fdgto_cSL9p"
      }
    },
    {
      "cell_type": "markdown",
      "source": [
        "## 6. Sentiment Analysis\n",
        "\n",
        "### 6.1 Methodology\n",
        "Explain the sentiment analysis techniques used (e.g., TextBlob, NLTK) and provide code snippets."
      ],
      "metadata": {
        "id": "-iMv0E-wgRcc"
      }
    },
    {
      "cell_type": "markdown",
      "source": [
        "I used Textblob to conduct my sentiment analysis. Textblob takes the content from each review and analyzes the sentiment and returns a polarity score. This polarity score determines how positive or negative a review is. If the polarity is <0 , the review is negative. If the polarity is >0, the review is positive. If the polarity is 0, the review is neutral. I conducted sentiment analysis on the \"content\" column of my dataframe for the top 4 competitors."
      ],
      "metadata": {
        "id": "sS_Fb2msEoV0"
      }
    },
    {
      "cell_type": "code",
      "source": [
        "from textblob import TextBlob\n",
        "\n",
        "def sentiment_analysis_summary(df, text_col):\n",
        "    \"\"\"\n",
        "    Perform sentiment analysis on text data and return the counts of positive, negative, and neutral reviews.\n",
        "\n",
        "    Parameters:\n",
        "    df (DataFrame): The input DataFrame.\n",
        "    text_col (str): The name of the column containing text data.\n",
        "\n",
        "    Returns:\n",
        "    dict: A dictionary with counts of positive, negative, and neutral reviews.\n",
        "    \"\"\"\n",
        "    sent_dict = {'positive': 0, 'negative': 0, 'neutral': 0}\n",
        "\n",
        "    for msg in df[text_col]:\n",
        "      blob = TextBlob(msg)\n",
        "      sentiment = blob.sentiment\n",
        "      polarity = sentiment.polarity\n",
        "      if polarity > 0:\n",
        "        sent_dict[\"positive\"] += 1\n",
        "      elif polarity < 0:\n",
        "        sent_dict[\"negative\"] += 1\n",
        "      else:\n",
        "        sent_dict[\"neutral\"] += 1\n",
        "\n",
        "    return sent_dict\n",
        "\n",
        "print(\"Beats:\", sentiment_analysis_summary(data[data[\"product_id\"] == \"Beats\"], \"content\"))\n",
        "print(\"Apple:\",sentiment_analysis_summary(data[data[\"product_id\"] == \"Apple\"], \"content\"))\n",
        "print(\"Sony:\",sentiment_analysis_summary(data[data[\"product_id\"] == \"Sony\"], \"content\"))\n",
        "print(\"Bose:\",sentiment_analysis_summary(data[data[\"product_id\"] == \"Bose\"], \"content\"))"
      ],
      "metadata": {
        "id": "3CdtKnwPgThE",
        "colab": {
          "base_uri": "https://localhost:8080/"
        },
        "outputId": "5527e56f-6c0d-4b43-871f-ae43998839ff"
      },
      "execution_count": 48,
      "outputs": [
        {
          "output_type": "stream",
          "name": "stdout",
          "text": [
            "Beats: {'positive': 95, 'negative': 0, 'neutral': 5}\n",
            "Apple: {'positive': 86, 'negative': 8, 'neutral': 6}\n",
            "Sony: {'positive': 95, 'negative': 2, 'neutral': 2}\n",
            "Bose: {'positive': 96, 'negative': 4, 'neutral': 0}\n"
          ]
        }
      ]
    },
    {
      "cell_type": "markdown",
      "source": [
        "I similarly conducted sentiment analysis and added up the helpful count of each review to confirm if more people tend to agree/like positive or negative reviews mainly. Checking this will indicate if there is any negative traction to certain reviews and indicate if there are any immediate problem that needs solving that has a high agree count."
      ],
      "metadata": {
        "id": "N18SWzwSMb7j"
      }
    },
    {
      "cell_type": "code",
      "source": [
        "from textblob import TextBlob\n",
        "\n",
        "def helpful_count_sentiment_analysis_summary(df, text_col, review_col):\n",
        "    helpful_dict = {'positive': 0, 'negative': 0, 'neutral': 0}\n",
        "\n",
        "    for review, helpful_count in zip(df[text_col], df[review_col]):\n",
        "        blob = TextBlob(str(review))\n",
        "        sentiment = blob.sentiment\n",
        "        polarity = sentiment.polarity\n",
        "\n",
        "        if polarity > 0:\n",
        "            helpful_dict[\"positive\"] += helpful_count\n",
        "        elif polarity < 0:\n",
        "            helpful_dict[\"negative\"] += helpful_count\n",
        "        else:\n",
        "            helpful_dict[\"neutral\"] += helpful_count\n",
        "\n",
        "    return helpful_dict\n",
        "\n",
        "\n",
        "print(helpful_count_sentiment_analysis_summary(data[data[\"product_id\"] == \"Beats\"], \"content\", \"helpful_count\"))\n",
        "print(helpful_count_sentiment_analysis_summary(data[data[\"product_id\"] == \"Apple\"], \"content\", \"helpful_count\"))\n",
        "print(helpful_count_sentiment_analysis_summary(data[data[\"product_id\"] == \"Sony\"], \"content\", \"helpful_count\"))\n",
        "print(helpful_count_sentiment_analysis_summary(data[data[\"product_id\"] == \"Bose\"], \"content\", \"helpful_count\"))\n"
      ],
      "metadata": {
        "colab": {
          "base_uri": "https://localhost:8080/"
        },
        "id": "JkLnU0jZE0eZ",
        "outputId": "25b797a6-198a-44b3-b0b8-ad58640cb6d3"
      },
      "execution_count": 49,
      "outputs": [
        {
          "output_type": "stream",
          "name": "stdout",
          "text": [
            "{'positive': 1414, 'negative': 0, 'neutral': 0}\n",
            "{'positive': 2329, 'negative': 3, 'neutral': 0}\n",
            "{'positive': 3464, 'negative': 0, 'neutral': 0}\n",
            "{'positive': 516, 'negative': 12, 'neutral': 0}\n"
          ]
        }
      ]
    },
    {
      "cell_type": "markdown",
      "source": [
        "### 6.2 Results\n",
        "Present the sentiment analysis results, including visualizations of sentiment distribution, and discuss the overall sentiment towards Beats by Dre products.\n"
      ],
      "metadata": {
        "id": "0DBNIEkXgkQl"
      }
    },
    {
      "cell_type": "markdown",
      "source": [
        "After collecting the data of the number of positive, negative, and neutral sentiments in the reviews of the top 4 companies, I plotted them using a bar chart. By the results, we can see that Beats has the highest value of positive values, rather than negative or neutral sentiments, and no negative sentiments detected at all."
      ],
      "metadata": {
        "id": "FDcFGioeYUBu"
      }
    },
    {
      "cell_type": "code",
      "source": [
        "companies = [\"Beats\"]\n",
        "summaries = {}\n",
        "\n",
        "for company in companies:\n",
        "    summaries[company] = sentiment_analysis_summary(data[data[\"product_id\"] == company], \"content\")\n",
        "\n",
        "positive_counts = [summaries[company][\"positive\"] for company in companies]\n",
        "negative_counts = [summaries[company][\"negative\"] for company in companies]\n",
        "neutral_counts = [summaries[company][\"neutral\"] for company in companies]\n",
        "\n",
        "index = np.arange(len(companies))\n",
        "fig, ax = plt.subplots(figsize=(10, 6))\n",
        "bar_width = 0.25\n",
        "\n",
        "bar1 = ax.bar(index - bar_width, positive_counts, bar_width, label='Positive', color='blue')\n",
        "bar2 = ax.bar(index, negative_counts, bar_width, label='Negative', color='red')\n",
        "bar3 = ax.bar(index + bar_width, neutral_counts, bar_width, label='Neutral', color='green')\n",
        "\n",
        "ax.set_xlabel('Companies')\n",
        "ax.set_ylabel('Review Count')\n",
        "ax.set_title('Review Sentiment Distribution for Beats')\n",
        "ax.set_xticks(index)\n",
        "ax.set_xticklabels(companies)\n",
        "ax.legend()\n",
        "\n",
        "def autolabel(bars):\n",
        "    for bar in bars:\n",
        "        height = bar.get_height()\n",
        "        ax.annotate('{}'.format(height),\n",
        "                    xy=(bar.get_x() + bar.get_width() / 2, height),\n",
        "                    xytext=(0, 3),\n",
        "                    textcoords=\"offset points\",\n",
        "                    ha='center', va='bottom')\n",
        "\n",
        "autolabel(bar1)\n",
        "autolabel(bar2)\n",
        "autolabel(bar3)\n",
        "\n",
        "plt.show()"
      ],
      "metadata": {
        "colab": {
          "base_uri": "https://localhost:8080/",
          "height": 564
        },
        "id": "PNE0QNRrYM-d",
        "outputId": "2c26dac2-3f88-4ca9-9d56-b52e936c8383"
      },
      "execution_count": 50,
      "outputs": [
        {
          "output_type": "display_data",
          "data": {
            "text/plain": [
              "<Figure size 1000x600 with 1 Axes>"
            ],
            "image/png": "[encoded data removed]"
          },
          "metadata": {}
        }
      ]
    },
    {
      "cell_type": "markdown",
      "source": [
        "## 7. AI-Generated Insights\n",
        "\n",
        "### 7.1 Using Gemini AI\n",
        "Briefly explain how Gemini AI was used to extract insights and include any relevant code snippets or explanations."
      ],
      "metadata": {
        "id": "DNwZT81EgnZx"
      }
    },
    {
      "cell_type": "markdown",
      "source": [
        "Gemini AI was used for its natural language processing abilities to generate quick summarized insights on our data reviews without having to manually scour each of the 899 remaining. To set this up, I made a Gemini AI Studio account and got an API key which I then connected with a chat session that would send messages from custom prompts I created to the API, which would then produce a response to me, using a model setup with parameters on the chatbot's response including temperature, output tokens, and conversational style."
      ],
      "metadata": {
        "id": "kuEtC4y9Yq9N"
      }
    },
    {
      "cell_type": "code",
      "source": [
        "import pandas as pd\n",
        "import google.generativeai as genai\n",
        "\n",
        "df = pd.read_csv('fully_cleaned_data.csv')\n",
        "\n",
        "def analyze_reviews(reviews, api_key,prompt_message):\n",
        "    genai.configure(api_key=api_key)\n",
        "\n",
        "    model = genai.GenerativeModel(\n",
        "        model_name=\"gemini-1.5-flash\",\n",
        "        generation_config={\n",
        "            \"temperature\": 1,\n",
        "            \"top_p\": 0.95,\n",
        "            \"top_k\": 64,\n",
        "            \"max_output_tokens\": 8192,\n",
        "            \"response_mime_type\": \"text/plain\",\n",
        "        },\n",
        "    )\n",
        "\n",
        "    chat_session = model.start_chat(history=[])\n",
        "\n",
        "    prompt = prompt_message + \"\\n\\n\".join(reviews)\n",
        "    response = chat_session.send_message(prompt)\n",
        "    return response.text"
      ],
      "metadata": {
        "id": "_gH24DmxZE1N"
      },
      "execution_count": 51,
      "outputs": []
    },
    {
      "cell_type": "markdown",
      "source": [
        "### 7.2 Key Insights\n",
        "Summarize the key insights generated by Gemini AI, including specific examples of prompts used and the responses received.\n"
      ],
      "metadata": {
        "id": "Ytb0BYEqgpfB"
      }
    },
    {
      "cell_type": "markdown",
      "source": [
        "I generated insights from these 3 prompts.\n",
        "\n",
        "Prompt 1: \"Analyze the negative reviews of Beats headphones and summarize the key features that did not live up to user expectation:\"\n",
        "Response 1: While many users praise the Beats Studio Pro headphones for their sound quality, noise cancellation, and integration with Apple devices, several negative reviews highlight some shortcomings with comfort and fit, sound quality, and build quality.  Users should be aware of these potential drawbacks before making a purchase, especially if comfort, sound quality, or specific functionalities are top priorities.\n",
        "\n",
        "Prompt 2: \"Analyze the positive reviews of all the companies and summarize the features other rival companies had in their products reviews that Beats' headphones do not have but should consider adding:\"\n",
        "Response 2: * Based on the positive reviews of various headphone brands, here are some features that Beats headphones could consider adding to improve their offerings: improved noise cancellation, adjustable clamping force/headband, more comprehensive equalizer, dedicated mute button, improved microphone quality, option to turn off ANC, seamless multi point connection, and improved touch control responsiveness.\n",
        "\n",
        "Prompt 3: \"Analyze the positive reviews of all the companies and summarize the features Beats has in their headphones products reviews that perform exceedingly better than other competitor's product reviews:\"\n",
        "Response 3: Beats headphones are a great option for users who prioritize powerful bass, a stylish design, and seamless integration with Apple devices. However, if you prioritize the best noise cancellation, a balanced and detailed sound, or a wider range of features, other brands like Sony, Sennheiser, and Bose might be a better fit."
      ],
      "metadata": {
        "id": "FvglZpOoag5q"
      }
    },
    {
      "cell_type": "markdown",
      "source": [
        "### 7.3 Interpretation\n",
        "Discuss how these insights can be interpreted and their relevance to Beats by Dre."
      ],
      "metadata": {
        "id": "Xnipe_rYgvQG"
      }
    },
    {
      "cell_type": "markdown",
      "source": [
        "These insights can be used to pinpoint strengths of Beats, or features of the headphones that attract and maintain users, and weaknesses, or features that the products lack or do not meet expectation. This is relevant to Beats as potentially including some of the lacking/disappointing features can help give Beats an edge over rivals and ensure customers stay pleased with their product and might potentially purchase other Beats products if the quality is right for the value."
      ],
      "metadata": {
        "id": "31orcvOfdtX2"
      }
    },
    {
      "cell_type": "markdown",
      "source": [
        "## 8. Comparative Analysis\n",
        "\n",
        "### 8.1 Competitor Overview\n",
        "List the competitors analyzed and provide a brief overview of their market positioning."
      ],
      "metadata": {
        "id": "GERtyCkwgxYw"
      }
    },
    {
      "cell_type": "markdown",
      "source": [
        "The competitors analyzed are Bose, Apple, Sony, JBL, Sennheiser, Treblab, Picun, Beribes, and Skullcandy. Bose, Apple, and Sony appear to be the most popular of the 9 other competitors on the market, compared to the more obscure brands like Treblab, Picun and Beribes."
      ],
      "metadata": {
        "id": "dMBqQG7seTXG"
      }
    },
    {
      "cell_type": "markdown",
      "source": [
        "### 8.2 Comparison of Sentiments\n",
        "Compare the sentiment analysis results of Beats by Dre with its competitors using visualizations to highlight differences and similarities."
      ],
      "metadata": {
        "id": "AGLyuZ8ggyf7"
      }
    },
    {
      "cell_type": "markdown",
      "source": [
        "After plotting the sentiment review distributions of Beats vs its other top 3 competitors, we can see that Beats, Sony, and Bose have the highest positive sentiment scores, however, Beats has the lowest negative sentiment score than the other companies, meaning all scraped reviews of Beats are neutral or positive."
      ],
      "metadata": {
        "id": "2U0bpJqwKNSI"
      }
    },
    {
      "cell_type": "code",
      "source": [
        "companies = [\"Beats\", \"Apple\", \"Sony\", \"Bose\"]\n",
        "summaries = {}\n",
        "\n",
        "for company in companies:\n",
        "    summaries[company] = sentiment_analysis_summary(data[data[\"product_id\"] == company], \"content\")\n",
        "\n",
        "positive_counts = [summaries[company][\"positive\"] for company in companies]\n",
        "negative_counts = [summaries[company][\"negative\"] for company in companies]\n",
        "neutral_counts = [summaries[company][\"neutral\"] for company in companies]\n",
        "\n",
        "index = np.arange(len(companies))\n",
        "fig, ax = plt.subplots(figsize=(10, 6))\n",
        "bar_width = 0.25\n",
        "\n",
        "bar1 = ax.bar(index - bar_width, positive_counts, bar_width, label='Positive', color='blue')\n",
        "bar2 = ax.bar(index, negative_counts, bar_width, label='Negative', color='red')\n",
        "bar3 = ax.bar(index + bar_width, neutral_counts, bar_width, label='Neutral', color='green')\n",
        "\n",
        "ax.set_xlabel('Companies')\n",
        "ax.set_ylabel('Review Count')\n",
        "ax.set_title('Review Sentiment Distribution for Different Companies')\n",
        "ax.set_xticks(index)\n",
        "ax.set_xticklabels(companies)\n",
        "ax.legend()\n",
        "\n",
        "def autolabel(bars):\n",
        "    for bar in bars:\n",
        "        height = bar.get_height()\n",
        "        ax.annotate('{}'.format(height),\n",
        "                    xy=(bar.get_x() + bar.get_width() / 2, height),\n",
        "                    xytext=(0, 3),\n",
        "                    textcoords=\"offset points\",\n",
        "                    ha='center', va='bottom')\n",
        "\n",
        "autolabel(bar1)\n",
        "autolabel(bar2)\n",
        "autolabel(bar3)\n",
        "\n",
        "plt.show()"
      ],
      "metadata": {
        "colab": {
          "base_uri": "https://localhost:8080/",
          "height": 564
        },
        "id": "w_JBTLXpeSWO",
        "outputId": "ea3177df-60e7-4e37-c806-26b543845fb2"
      },
      "execution_count": 52,
      "outputs": [
        {
          "output_type": "display_data",
          "data": {
            "text/plain": [
              "<Figure size 1000x600 with 1 Axes>"
            ],
            "image/png": "[encoded data removed]"
          },
          "metadata": {}
        }
      ]
    },
    {
      "cell_type": "markdown",
      "source": [
        "Here is the plot of the sentiment analysis for helpful count for all the competitors to confirm if more people tend to agree/like positive or negative reviews mainly. While the actual high numbers of the values, in which Sony overwhelmingly wins due to potentially higher number of reviews leading to more people looking at reviews and liking the helpful count of reviews, they do not indicate anything about the rating, as we established with our correlation matrix heatmap. Instead, this tells us that helpful counts on reviews tend to be associated with positive reviews instead mainly, signaling that people tend to agree more with positive reviews, meaning positive reviews are consistent in all the top companies."
      ],
      "metadata": {
        "id": "reG6tHOaNClg"
      }
    },
    {
      "cell_type": "code",
      "source": [
        "companies = [\"Beats\", \"Apple\", \"Sony\", \"Bose\"]\n",
        "summaries = {}\n",
        "\n",
        "for company in companies:\n",
        "    summaries[company] = helpful_count_sentiment_analysis_summary(data[data[\"product_id\"] == company], \"content\", \"helpful_count\")\n",
        "\n",
        "\n",
        "sentiments = list(summaries[companies[0]].keys())\n",
        "positive_counts = [summaries[company][\"positive\"] for company in companies]\n",
        "negative_counts = [summaries[company][\"negative\"] for company in companies]\n",
        "neutral_counts = [summaries[company][\"neutral\"] for company in companies]\n",
        "\n",
        "index = np.arange(len(companies))\n",
        "fig, ax = plt.subplots(figsize=(10, 6))\n",
        "bar_width = 0.25\n",
        "\n",
        "bar1 = ax.bar(index - bar_width, positive_counts, bar_width, label='Positive', color='blue')\n",
        "bar2 = ax.bar(index, negative_counts, bar_width, label='Negative', color='red')\n",
        "bar3 = ax.bar(index + bar_width, neutral_counts, bar_width, label='Neutral', color='green')\n",
        "\n",
        "ax.set_xlabel('Companies')\n",
        "ax.set_ylabel('Helpful Count')\n",
        "ax.set_title('Helpful Count Distribution by Sentiment for Different Companies')\n",
        "ax.set_xticks(index)\n",
        "ax.set_xticklabels(companies)\n",
        "ax.legend()\n",
        "\n",
        "def autolabel(bars):\n",
        "    for bar in bars:\n",
        "        height = bar.get_height()\n",
        "        ax.annotate('{}'.format(height),\n",
        "                    xy=(bar.get_x() + bar.get_width() / 2, height),\n",
        "                    xytext=(0, 3),\n",
        "                    textcoords=\"offset points\",\n",
        "                    ha='center', va='bottom')\n",
        "\n",
        "autolabel(bar1)\n",
        "autolabel(bar2)\n",
        "autolabel(bar3)\n",
        "plt.show()\n"
      ],
      "metadata": {
        "colab": {
          "base_uri": "https://localhost:8080/",
          "height": 564
        },
        "id": "isdmwYxcNDLi",
        "outputId": "13d43283-4ec6-41b0-a7e9-1eba5399b814"
      },
      "execution_count": 53,
      "outputs": [
        {
          "output_type": "display_data",
          "data": {
            "text/plain": [
              "<Figure size 1000x600 with 1 Axes>"
            ],
            "image/png": "[encoded data removed]"
          },
          "metadata": {}
        }
      ]
    },
    {
      "cell_type": "markdown",
      "source": [
        "### 8.3 SWOT Analysis\n",
        "Conduct a SWOT analysis (Strengths, Weaknesses, Opportunities, Threats) for Beats by Dre based on the comparative data."
      ],
      "metadata": {
        "id": "LEwiDwEZg4zK"
      }
    },
    {
      "cell_type": "markdown",
      "source": [
        "Strengths for Beats headphones include powerful bass, sleek design, and easy integration with the commonly owned Apple ecosystem, and affordability.\n",
        "\n",
        "Weaknesses for Beats headphones include noise cancellation, comfort, advanced features, and sound quality.\n",
        "\n",
        "Opportunities for Beats headphones include adding improved noise cancellation, adjustable clamping force/headband, more comprehensive equalizer, a dedicated mute button, improved microphone quality, option to turn off ANC, seamless multi point connection, and improved touch control responsiveness.\n",
        "\n",
        "Threats for Beats headphones include Apple, Sony, and Bose, and Sennheiser for including some of these lacking qualities in Beats."
      ],
      "metadata": {
        "id": "Z-hURs1FevJd"
      }
    },
    {
      "cell_type": "markdown",
      "source": [
        "## 9. Strategic Recommendations\n",
        "\n",
        "### 9.1 Product Improvements\n",
        "Based on the analysis, suggest specific product improvements."
      ],
      "metadata": {
        "id": "-cjwuRIbg9ud"
      }
    },
    {
      "cell_type": "markdown",
      "source": [
        "To improve Beats' headphone product, I would suggest increasing the quality of the noise cancellation and mic quality, making the headphones more adjustable in band size and headphone clampability to increase comfort, adding advanced features such as an easier to navigate equalizer, mute button, option to turn off ANC, and improved touch control responsiveness.\n"
      ],
      "metadata": {
        "id": "pQ7UvQZHeuWq"
      }
    },
    {
      "cell_type": "markdown",
      "source": [
        "### 9.2 Marketing Strategies\n",
        "Provide recommendations for marketing strategies that could enhance consumer perception and satisfaction."
      ],
      "metadata": {
        "id": "2bsNlkdlhBot"
      }
    },
    {
      "cell_type": "markdown",
      "source": [
        "Reccomendations for marketing strategies would include potentially collabing with popular ASMR creators on YouTube, as ASMR relies heavily on audio products, and I have seen other brands such as Raycon get promotions for their audio products through ASMR youtubers. Another marketing reccomendation would be to do advertisements that show the quality of the product in a modern sense, like an advertisement where someone is listening to music using Beats headphones and feel like they're in a live concert due to the quality of the headphones, with modern popular singers featured in the concert part of the ad, such as Kendrick Lamar, especially since Dr Dre himself was seen on stage with Kendrick on tour recently. Or maybe a collab headphones cover with an artist like Charli XCX, whose album BRAT is taking over the world right now to the point where even Kamala Harris endorses it."
      ],
      "metadata": {
        "id": "JHzP75JHh3lv"
      }
    },
    {
      "cell_type": "markdown",
      "source": [
        "### 9.3 Future Research\n",
        "Suggest areas for future research or additional data that could be collected to further enhance the analysis."
      ],
      "metadata": {
        "id": "vmvfoXy_hG_d"
      }
    },
    {
      "cell_type": "markdown",
      "source": [
        "For future research, I would look into the color breakdown further, to see if there are any trends over time with choosing specific colors, as well as finding a way to analyze more reviews rather than just the last 100 or repeating this process every new 100 reviews to continuousally gather more data over time. I would also look into the helpful count column more to inspect if the majority of likes come from bots/an external force or if there are any patterns with helpful count and the rest of our analysis. Lastly, I might consider doing a breakdown of the gender ratio or race ratio of who buys the products more to see if Beats can widen their audience."
      ],
      "metadata": {
        "id": "RxVBBeA_hK09"
      }
    },
    {
      "cell_type": "markdown",
      "source": [
        "## 10. Conclusion\n",
        "Summarize the key findings and their implications, and reflect on the overall project and its contribution to understanding consumer sentiment for Beats by Dre."
      ],
      "metadata": {
        "id": "6LrUwAGHhIsP"
      }
    },
    {
      "cell_type": "markdown",
      "source": [
        "The key findings of this project include Beats being curently ranked as a high, top 5 contender in terms of rating, consistency, skewness, and more. Reviews tend to be highly positive, based on our sentiment analysis, however room for improvement includes potentially bringing Beats to a top 1 spot by adding more personalized features in terms of specific buttons and comfort adjustability so users can customize their listening experience better, as well as more enhanced sound and mic quality."
      ],
      "metadata": {
        "id": "ufD6NYczhyMM"
      }
    },
    {
      "cell_type": "markdown",
      "source": [
        "## 11. References\n",
        "List all the sources, tools, and references used in the project.\n"
      ],
      "metadata": {
        "id": "olikrWxke3lK"
      }
    },
    {
      "cell_type": "markdown",
      "source": [
        "References, sources, and tools I used in this project include OxyLabs for their e-commerce scraper, Amazon for the product information and URLS, and the Extern platform for example code I used as a template for my own code."
      ],
      "metadata": {
        "id": "y8pxukRd2wKR"
      }
    }
  ]
}